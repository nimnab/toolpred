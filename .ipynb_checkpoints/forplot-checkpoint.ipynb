{
 "cells": [
  {
   "cell_type": "code",
   "execution_count": 33,
   "metadata": {},
   "outputs": [],
   "source": [
    "import numpy as np\n",
    "from collections import defaultdict\n",
    "import scipy.stats"
   ]
  },
  {
   "cell_type": "code",
   "execution_count": 8,
   "metadata": {},
   "outputs": [],
   "source": [
    "def mean_confidence_interval(data, confidence=0.95):\n",
    "    a = 1.0 * np.array(data)\n",
    "    n = len(a)\n",
    "    m, se = np.mean(a), scipy.stats.sem(a)\n",
    "    h = se * scipy.stats.t.ppf((1 + confidence) / 2., n-1)\n",
    "    return m, h"
   ]
  },
  {
   "cell_type": "code",
   "execution_count": 50,
   "metadata": {},
   "outputs": [],
   "source": [
    "def clnum(x):\n",
    "    return round(x*100, 2)"
   ]
  },
  {
   "cell_type": "code",
   "execution_count": 60,
   "metadata": {},
   "outputs": [],
   "source": [
    "filename = '/home/nnabizad/code/toolpred/res/final/markov_martin.csv'\n",
    "with open(filename, 'r') as f:\n",
    "    lines = f.readlines()"
   ]
  },
  {
   "cell_type": "code",
   "execution_count": 63,
   "metadata": {},
   "outputs": [],
   "source": [
    "mydicw = defaultdict(list)\n",
    "mydicwo = defaultdict(list)\n",
    "for line in lines[1:]:\n",
    "    vals = line.split(',')\n",
    "    if vals[-1].strip() == 'w':\n",
    "        mydicwo[vals[1]].append(vals[1:])\n",
    "    else:\n",
    "        mydicw[vals[1]].append(vals[1:])"
   ]
  },
  {
   "cell_type": "code",
   "execution_count": 64,
   "metadata": {},
   "outputs": [],
   "source": [
    "filetowrite = open('/home/nnabizad/code/toolpred/res/final/martim_plot.csv', 'a')\n",
    "for order in mydicw:\n",
    "    mean, sigma = clnum(np.mean([float(i[1]) for i in mydicw[order]])), np.std([float(i[1]) for i in mydicw[order]])\n",
    "    filetowrite.write('{}, {}, {} , w\\n'.format(order, mean, sigma))\n",
    "for order in mydicwo:\n",
    "    mean, sigma = clnum(np.mean([float(i[1]) for i in mydicwo[order]])), np.std([float(i[1]) for i in mydicwo[order]])\n",
    "    filetowrite.write('{}, {}, {} , w/o\\n'.format(order, mean, sigma))\n",
    "filetowrite.close()"
   ]
  },
  {
   "cell_type": "code",
   "execution_count": 36,
   "metadata": {},
   "outputs": [
    {
     "data": {
      "text/plain": [
       "0.011555868964391173"
      ]
     },
     "execution_count": 36,
     "metadata": {},
     "output_type": "execute_result"
    }
   ],
   "source": [
    "sigma"
   ]
  }
 ],
 "metadata": {
  "kernelspec": {
   "display_name": "Python 3",
   "language": "python",
   "name": "python3"
  },
  "language_info": {
   "codemirror_mode": {
    "name": "ipython",
    "version": 3
   },
   "file_extension": ".py",
   "mimetype": "text/x-python",
   "name": "python",
   "nbconvert_exporter": "python",
   "pygments_lexer": "ipython3",
   "version": "3.6.7"
  }
 },
 "nbformat": 4,
 "nbformat_minor": 2
}
