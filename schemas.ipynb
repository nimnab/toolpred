{
 "cells": [
  {
   "cell_type": "code",
   "execution_count": 1,
   "metadata": {},
   "outputs": [],
   "source": [
    "import scrape_schema_recipe"
   ]
  },
  {
   "cell_type": "code",
   "execution_count": 26,
   "metadata": {},
   "outputs": [],
   "source": [
    "url = 'https://snapguide.com/guides/cook-crispy-pan-fried-gyoza/'"
   ]
  },
  {
   "cell_type": "code",
   "execution_count": 27,
   "metadata": {},
   "outputs": [],
   "source": [
    "recipe_list = scrape_schema_recipe.scrape_url(url, python_objects=True)"
   ]
  },
  {
   "cell_type": "code",
   "execution_count": 28,
   "metadata": {},
   "outputs": [
    {
     "data": {
      "text/plain": [
       "dict_keys(['image', 'name', 'description', 'interactionCount', 'recipeInstructions', 'author', '@context', '@type', 'url', 'recipeIngredient'])"
      ]
     },
     "execution_count": 28,
     "metadata": {},
     "output_type": "execute_result"
    }
   ],
   "source": [
    "recipe_list[0].keys()"
   ]
  },
  {
   "cell_type": "code",
   "execution_count": 29,
   "metadata": {},
   "outputs": [
    {
     "name": "stdout",
     "output_type": "stream",
     "text": [
      "image ['https://d1alt1wkdk73qo.cloudfront.net/images/guide/86d8d1706d5148ffb0fe2e21c4ee4060/478x640_ac.jpg', 'https://d1alt1wkdk73qo.cloudfront.net/images/guide/86d8d1706d5148ffb0fe2e21c4ee4060/478x640_ac.jpg']\n",
      "\n",
      "name How to Cook Crispy Pan-Fried Gyoza\n",
      "\n",
      "description Pan-fried gyoza is basically a staple food for me that I've cooked since my teens. I didn't realize many people don't know how to pan-fry them well! Yes, you can boil them but come on, treat yourself!\n",
      "\n",
      "interactionCount ['UserLikes:142', 'UserPageVisits:2863']\n",
      "\n",
      "recipeInstructions 1. Turn on your stove to high heat, take your non-stick pan and coat the bottom with some oil. Make sure it's fully coated! 2. Start placing your frozen gyoza on the pan, put the flat side down and make sure they aren't touching. 3. These are the gyozas I'm making today. This brand is superb, the gyoza layer is really thin which I like, but to each their own! 4. Place however many gyozas you feel like eating, or in my case, as many as you can fit on the pan. 5. Wait until your gyozas start to turn golden on the bottom. This is normally 3 to 5 mins on high heat :) 6. When it's golden, add enough cold water to just cover all the bottom of the pan and a bit of the gyoza. Here, the water depth is about half a centimeter. 7. Just take a cup/bowl/plate and pour it in. Yes, this seems odd. Yes, it will sizzle and steam. 8. This is my phone in steam while I was trying to take a closer pic for you lol 9. Now cover that pan and turn the heat to med-high! Then we wait until all the water has evaporated - 8 to 12 mins. You can facebook, Instagram, shower... I fed my fish and checked how many were alive 10. Come back and check if the water is gone or mostly gone. Tah-dah! Mine has pretty much evaporated- years of practice. Remove the lid and turn the heat back to high. 11. Now while the last bit of water is evaporating, start moving the gyoza around to make sure the bottom doesn't stick and you don't lose that crispiness on the pan! 12. Chopsticks are more difficult for this task than a big-ass spatula or flipper. So however pro you think you might be, use a spatula. 13. I've moved them all so we will have crunchy bottoms! Yay! 14. On high heat it should take a few mins until the bottoms look like this! Perfecto! Some might take longer than the others depending on your pan and their placement, so just take them out one at a time 15. Back in the pan mister, you're not crunchy-looking enough! 16. Put all your delicious crispy pan-fried gyoza into a dish... 17. Add some ponzu sauce. I just pour mine on top but I think the more civilized way to do it is put it in a small sauce dish. 18. I also am addicted to this amazing chili oil. So I put this on. It's called 'Oily Chili Sauce' in English and if you want it, make sure you read the ingredients - must have peanuts or it isn't THE ONE 19. NOW EAT THAT DELICIOUSNESS AND SAVOUR THE CRIPSY BOTTOM! Good job you! And now you will never go back to boiling. Ever.\n",
      "\n",
      "author {'properties': {'image': 'https://d1alt1wkdk73qo.cloudfront.net/images/profile/6e87ccc2b5ea4eb08bc508109aea0b65/100x100_ac.jpg', 'name': 'Kitty Yu', 'url': 'https://snapguide.com/kitty-yu/', 'description': \"I like to learn random things that I would never think of. I bet you do too, and that's why we're here!\", 'homeLocation': {'type': 'http://schema.org/Place', 'properties': {'name': 'Vancouver, BC'}}}, '@type': 'Person'}\n",
      "\n",
      "@context http://schema.org\n",
      "\n",
      "@type Recipe\n",
      "\n",
      "url https://snapguide.com/guides/cook-crispy-pan-fried-gyoza/\n",
      "\n",
      "recipeIngredient ['12 Frozen Gyoza', '1 Nonstick Fry Pan', '2 Tablespoons Oil', '1 Tablespoon Spatula or cooking utensil', '1 Tablespoon Lid for pan', '¾ Cups Cold water']\n",
      "\n"
     ]
    }
   ],
   "source": [
    "for key in recipe_list[0].keys():\n",
    "    print(key,recipe_list[0][key])\n",
    "    print()"
   ]
  },
  {
   "cell_type": "code",
   "execution_count": null,
   "metadata": {},
   "outputs": [],
   "source": []
  }
 ],
 "metadata": {
  "kernelspec": {
   "display_name": "Python 3",
   "language": "python",
   "name": "python3"
  },
  "language_info": {
   "codemirror_mode": {
    "name": "ipython",
    "version": 3
   },
   "file_extension": ".py",
   "mimetype": "text/x-python",
   "name": "python",
   "nbconvert_exporter": "python",
   "pygments_lexer": "ipython3",
   "version": "3.6.7"
  }
 },
 "nbformat": 4,
 "nbformat_minor": 2
}
