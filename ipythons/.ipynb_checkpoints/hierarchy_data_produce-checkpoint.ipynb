{
 "cells": [
  {
   "cell_type": "code",
   "execution_count": 1,
   "metadata": {},
   "outputs": [],
   "source": [
    "from collections import Counter"
   ]
  },
  {
   "cell_type": "code",
   "execution_count": 2,
   "metadata": {},
   "outputs": [],
   "source": [
    "from sklearn_hierarchical_classification.constants import ROOT"
   ]
  },
  {
   "cell_type": "code",
   "execution_count": 3,
   "metadata": {},
   "outputs": [],
   "source": [
    "import pickle as pk\n",
    "def save_obj(obj, name):\n",
    "    \"\"\"\n",
    "    Saving the pickle object\n",
    "    \"\"\"\n",
    "    with open(name + '.pkl', 'wb') as file:\n",
    "        pk.dump(obj, file, pk.HIGHEST_PROTOCOL)\n",
    "\n",
    "\n",
    "def load_obj(name):\n",
    "    \"\"\"\n",
    "    loading the pickle object\n",
    "    \"\"\"\n",
    "    with open(name + '.pkl', 'rb') as file:\n",
    "        return pk.load(file)"
   ]
  },
  {
   "cell_type": "code",
   "execution_count": 4,
   "metadata": {},
   "outputs": [],
   "source": [
    "yamtools = load_obj('/home/nnabizad/code/toolpred/data/yam/yam_tools')\n",
    "ings = load_obj('/home/nnabizad/code/toolpred/data/yam/yam_ings')"
   ]
  },
  {
   "cell_type": "code",
   "execution_count": 99,
   "metadata": {},
   "outputs": [],
   "source": [
    "import string as st\n",
    "import re\n",
    "def cleaing(txt):\n",
    "    words = txt.split()\n",
    "    for word in words:\n",
    "        if word in st.punctuation: words.remove(word)\n",
    "        if word == 'and': words.remove(word)\n",
    "    txt = ' '.join(words)\n",
    "    re.sub(r'([^\\s\\w-]|_)+', '', txt)\n",
    "    return txt"
   ]
  },
  {
   "cell_type": "code",
   "execution_count": 122,
   "metadata": {},
   "outputs": [],
   "source": [
    "allrec = []\n",
    "for rec in ings:\n",
    "    _rec = []\n",
    "    for step in rec:\n",
    "        _step =[]\n",
    "        for _ing in step:\n",
    "            _step.append(cleaing(_ing))\n",
    "        _rec.append(set(_step))\n",
    "    allrec.append(_rec)"
   ]
  },
  {
   "cell_type": "code",
   "execution_count": 5,
   "metadata": {},
   "outputs": [],
   "source": [
    "from collections import defaultdict"
   ]
  },
  {
   "cell_type": "code",
   "execution_count": 367,
   "metadata": {},
   "outputs": [],
   "source": [
    "def hir_create(counts):\n",
    "    class_hierarchy = defaultdict(list)\n",
    "    for part in counts:\n",
    "        if counts[part]>1:\n",
    "            words = part.split()\n",
    "            if len(words)>1:\n",
    "                if ' '.join(words[0:-1]) not in class_hierarchy[words[-1]]:\n",
    "                    class_hierarchy[words[-1]].append(' '.join(words[0:-1]))\n",
    "            else:\n",
    "                class_hierarchy[\"<ROOT>\"].append(words[0])\n",
    "    return class_hierarchy"
   ]
  },
  {
   "cell_type": "code",
   "execution_count": 368,
   "metadata": {},
   "outputs": [],
   "source": [
    "def remove_ones(class_hierarchy, root):\n",
    "    for tool in class_hierarchy.copy():\n",
    "        if tool != root:\n",
    "            if len(class_hierarchy[tool])==1 and class_hierarchy[tool][0]+ ' ' + tool not in class_hierarchy[root]:\n",
    "                class_hierarchy[root].append(class_hierarchy[tool][0]+ ' ' + tool)\n",
    "                del class_hierarchy[tool]\n",
    "            else:\n",
    "                if tool in class_hierarchy[root]:\n",
    "                    class_hierarchy[tool].append('None')\n",
    "                else:\n",
    "                    class_hierarchy[root].append(tool)\n",
    "    return class_hierarchy"
   ]
  },
  {
   "cell_type": "code",
   "execution_count": 375,
   "metadata": {},
   "outputs": [],
   "source": [
    "def next_level(tclass_hierarchy, root):\n",
    "    keys = list(tclass_hierarchy.keys())\n",
    "    keys.remove(root)\n",
    "    for tool in keys:\n",
    "        for subtool in tclass_hierarchy[tool][:]:\n",
    "            words = subtool.split()\n",
    "            if len(words)>1:\n",
    "                if words[-1]+' '+tool not in tclass_hierarchy[tool]:\n",
    "                    tclass_hierarchy[tool].append(words[-1]+' '+tool)\n",
    "                tclass_hierarchy[words[-1]+' '+tool].append(' '.join(words[0:-1]))\n",
    "                tclass_hierarchy[tool].remove(subtool)\n",
    "    return tclass_hierarchy"
   ]
  },
  {
   "cell_type": "code",
   "execution_count": 374,
   "metadata": {},
   "outputs": [],
   "source": [
    "def clean_levels(tclass_hierarchy, root):\n",
    "    keys = list(tclass_hierarchy.keys())\n",
    "    keys.remove(root)\n",
    "    for tool in list(tclass_hierarchy.keys()):\n",
    "        if len(tclass_hierarchy[tool])==1:\n",
    "            if tclass_hierarchy[tool][0] in tclass_hierarchy.keys():\n",
    "                if tool in tclass_hierarchy[root]: tclass_hierarchy[root].remove(tool)\n",
    "                tclass_hierarchy[root].append(tclass_hierarchy[tool][0])\n",
    "                del tclass_hierarchy[tool]\n",
    "            else:\n",
    "                for key in keys:\n",
    "                    if tool in tclass_hierarchy[key] and tclass_hierarchy[tool]:\n",
    "                        tclass_hierarchy[key].remove(tool)\n",
    "                        tclass_hierarchy[key].append(tclass_hierarchy[tool][0] + ' ' + tool)\n",
    "                        del tclass_hierarchy[tool]\n",
    "    return tclass_hierarchy"
   ]
  },
  {
   "cell_type": "code",
   "execution_count": 9,
   "metadata": {},
   "outputs": [],
   "source": [
    "def check_dublicates(class_hierarchy):\n",
    "    myset = set()\n",
    "    for i in class_hierarchy:\n",
    "        for j in class_hierarchy[i]:\n",
    "            if j in myset:\n",
    "                print(j)\n",
    "            else:\n",
    "                myset.add(j)"
   ]
  },
  {
   "cell_type": "code",
   "execution_count": 303,
   "metadata": {},
   "outputs": [],
   "source": [
    "mactools = load_obj('/home/nnabizad/code/toolpred/data/mac/mac_tools')\n",
    "macparts = load_obj('/home/nnabizad/code/toolpred/data/mac/mac_parts')\n",
    "allmactools = [i for j in mactools for k in j for i in k]\n",
    "toolscounts = Counter(allmactools)\n",
    "toolset = set(allmactools)"
   ]
  },
  {
   "cell_type": "code",
   "execution_count": 429,
   "metadata": {},
   "outputs": [],
   "source": [
    "toolclass_hierarchy = hir_create(toolscounts)"
   ]
  },
  {
   "cell_type": "code",
   "execution_count": 430,
   "metadata": {},
   "outputs": [],
   "source": [
    "toolclass_hierarchy = remove_ones(toolclass_hierarchy, root=\"<ROOT>\")"
   ]
  },
  {
   "cell_type": "code",
   "execution_count": 431,
   "metadata": {},
   "outputs": [],
   "source": [
    "toolclass_hierarchy = next_level(toolclass_hierarchy, root=\"<ROOT>\")"
   ]
  },
  {
   "cell_type": "code",
   "execution_count": 432,
   "metadata": {},
   "outputs": [],
   "source": [
    "toolclass_hierarchy = clean_levels(toolclass_hierarchy, root=\"<ROOT>\")"
   ]
  },
  {
   "cell_type": "code",
   "execution_count": 433,
   "metadata": {},
   "outputs": [
    {
     "data": {
      "text/plain": [
       "defaultdict(list,\n",
       "            {'<ROOT>': ['spudger',\n",
       "              'coin',\n",
       "              'paperclip',\n",
       "              'pin',\n",
       "              'tweezers',\n",
       "              'screwdriver',\n",
       "              'iopener',\n",
       "              'probe_and_pickset',\n",
       "              'arctic silver thermal paste',\n",
       "              'opening tool',\n",
       "              'plastic cards',\n",
       "              'arctic silver arcticlean',\n",
       "              'heat gun',\n",
       "              'heavy-duty suction cups pair',\n",
       "              'knife',\n",
       "              'wire striper',\n",
       "              'utility scissors',\n",
       "              'ipad battery isolation pick',\n",
       "              'hair dryer',\n",
       "              'suction handle',\n",
       "              'microfiber cleaning cloth',\n",
       "              'usb cable',\n",
       "              '99 isopropyl alcohol',\n",
       "              'adhesive remover',\n",
       "              'isopropyl alcohol wipes',\n",
       "              'nut driver'],\n",
       "             'screwdriver': ['phillips screwdriver',\n",
       "              'torx screwdriver',\n",
       "              'phillips screwdriver',\n",
       "              'tri-point screwdriver',\n",
       "              'pentalobe screwdriver',\n",
       "              'tri-point screwdriver',\n",
       "              'None screwdriver',\n",
       "              '2.5mm flathead screwdriver',\n",
       "              '1.5mm hex screwdriver'],\n",
       "             'knife': ['tech knife', 'precision utility knife'],\n",
       "             'phillips screwdriver': ['ph0', 'ph00', 'ph000'],\n",
       "             'torx screwdriver': ['t8', 't6', 't5', 't10', 't9', 't3', 't4'],\n",
       "             'tri-point screwdriver': ['y0', 'y1', 'y00'],\n",
       "             'pentalobe screwdriver': ['p6', 'p5'],\n",
       "             'nut driver': ['5mm', '4mm'],\n",
       "             'driver': [],\n",
       "             'flathead screwdriver': [],\n",
       "             'hex screwdriver': [],\n",
       "             'utility knife': []})"
      ]
     },
     "execution_count": 433,
     "metadata": {},
     "output_type": "execute_result"
    }
   ],
   "source": [
    "toolclass_hierarchy"
   ]
  },
  {
   "cell_type": "code",
   "execution_count": 215,
   "metadata": {},
   "outputs": [],
   "source": [
    "def addparents(i,tool):\n",
    "    if i.split()[-1] != tool:\n",
    "        return i + ' ' + tool\n",
    "    else:\n",
    "        return i"
   ]
  },
  {
   "cell_type": "code",
   "execution_count": 253,
   "metadata": {},
   "outputs": [],
   "source": [
    "def save_dic(dic, name):\n",
    "    mydic = dict()\n",
    "    keys = list(dic.keys())\n",
    "    keys.remove('<ROOT>')\n",
    "    mydic['<ROOT>'] = dic['<ROOT>']\n",
    "    for tool in keys:\n",
    "        if len(dic[tool])>0:\n",
    "            mydic[tool] = list(set([addparents(i,tool) for i in dic[tool]]))\n",
    "    save_obj(mydic, name)\n",
    "    return mydic"
   ]
  },
  {
   "cell_type": "code",
   "execution_count": 313,
   "metadata": {},
   "outputs": [],
   "source": [
    "check_dublicates(toolclass_hierarchy)"
   ]
  },
  {
   "cell_type": "code",
   "execution_count": 314,
   "metadata": {},
   "outputs": [],
   "source": [
    "lst = save_dic(toolclass_hierarchy, 'mactool_hi')"
   ]
  },
  {
   "cell_type": "code",
   "execution_count": 316,
   "metadata": {},
   "outputs": [
    {
     "data": {
      "text/plain": [
       "{'<ROOT>': ['spudger',\n",
       "  'coin',\n",
       "  'paperclip',\n",
       "  'pin',\n",
       "  'tweezers',\n",
       "  'screwdriver',\n",
       "  'iopener',\n",
       "  'probe_and_pickset',\n",
       "  'arctic silver thermal paste',\n",
       "  'opening tool',\n",
       "  'plastic cards',\n",
       "  'arctic silver arcticlean',\n",
       "  'heat gun',\n",
       "  'heavy-duty suction cups pair',\n",
       "  'knife',\n",
       "  'wire striper',\n",
       "  'utility scissors',\n",
       "  'ipad battery isolation pick',\n",
       "  'hair dryer',\n",
       "  'suction handle',\n",
       "  'microfiber cleaning cloth',\n",
       "  'usb cable',\n",
       "  '99 isopropyl alcohol',\n",
       "  'adhesive remover',\n",
       "  'isopropyl alcohol wipes',\n",
       "  'nut driver'],\n",
       " 'screwdriver': ['None screwdriver',\n",
       "  'pentalobe screwdriver',\n",
       "  'torx screwdriver',\n",
       "  '1.5mm hex screwdriver',\n",
       "  'tri-point screwdriver',\n",
       "  '2.5mm flathead screwdriver',\n",
       "  'phillips screwdriver'],\n",
       " 'knife': ['tech knife', 'precision utility knife'],\n",
       " 'phillips screwdriver': ['ph00 phillips screwdriver',\n",
       "  'ph000 phillips screwdriver',\n",
       "  'ph0 phillips screwdriver'],\n",
       " 'torx screwdriver': ['t3 torx screwdriver',\n",
       "  't6 torx screwdriver',\n",
       "  't4 torx screwdriver',\n",
       "  't8 torx screwdriver',\n",
       "  't10 torx screwdriver',\n",
       "  't5 torx screwdriver',\n",
       "  't9 torx screwdriver'],\n",
       " 'tri-point screwdriver': ['y1 tri-point screwdriver',\n",
       "  'y00 tri-point screwdriver',\n",
       "  'y0 tri-point screwdriver'],\n",
       " 'pentalobe screwdriver': ['p6 pentalobe screwdriver',\n",
       "  'p5 pentalobe screwdriver'],\n",
       " 'nut driver': ['5mm nut driver', '4mm nut driver']}"
      ]
     },
     "execution_count": 316,
     "metadata": {},
     "output_type": "execute_result"
    }
   ],
   "source": [
    "lst"
   ]
  },
  {
   "cell_type": "code",
   "execution_count": 317,
   "metadata": {},
   "outputs": [
    {
     "name": "stdout",
     "output_type": "stream",
     "text": [
      "<ROOT> ['spudger', 'coin', 'paperclip', 'pin', 'tweezers', 'screwdriver', 'iopener', 'probe_and_pickset', 'arctic silver thermal paste', 'opening tool', 'plastic cards', 'arctic silver arcticlean', 'heat gun', 'heavy-duty suction cups pair', 'knife', 'wire striper', 'utility scissors', 'ipad battery isolation pick', 'hair dryer', 'suction handle', 'microfiber cleaning cloth', 'usb cable', '99 isopropyl alcohol', 'adhesive remover', 'isopropyl alcohol wipes', 'nut driver']\n",
      "\n",
      "screwdriver ['None screwdriver', 'pentalobe screwdriver', 'torx screwdriver', '1.5mm hex screwdriver', 'tri-point screwdriver', '2.5mm flathead screwdriver', 'phillips screwdriver']\n",
      "\n",
      "knife ['tech knife', 'precision utility knife']\n",
      "\n",
      "phillips screwdriver ['ph00 phillips screwdriver', 'ph000 phillips screwdriver', 'ph0 phillips screwdriver']\n",
      "\n",
      "torx screwdriver ['t3 torx screwdriver', 't6 torx screwdriver', 't4 torx screwdriver', 't8 torx screwdriver', 't10 torx screwdriver', 't5 torx screwdriver', 't9 torx screwdriver']\n",
      "\n",
      "tri-point screwdriver ['y1 tri-point screwdriver', 'y00 tri-point screwdriver', 'y0 tri-point screwdriver']\n",
      "\n",
      "pentalobe screwdriver ['p6 pentalobe screwdriver', 'p5 pentalobe screwdriver']\n",
      "\n",
      "nut driver ['5mm nut driver', '4mm nut driver']\n",
      "\n"
     ]
    }
   ],
   "source": [
    "for key in lst:\n",
    "    print(key, lst[key])\n",
    "    print()"
   ]
  },
  {
   "cell_type": "code",
   "execution_count": 441,
   "metadata": {},
   "outputs": [],
   "source": [
    "macparts = load_obj('/home/nnabizad/code/toolpred/data/mac/mac_parts')\n",
    "allmacparts = [i for j in macparts for k in j for i in k]\n",
    "partsscounts = Counter(allmacparts)"
   ]
  },
  {
   "cell_type": "code",
   "execution_count": 446,
   "metadata": {},
   "outputs": [],
   "source": [
    "partclass_hierarchy = hir_create(partsscounts)"
   ]
  },
  {
   "cell_type": "code",
   "execution_count": 447,
   "metadata": {},
   "outputs": [],
   "source": [
    "partclass_hierarchy = remove_ones(partclass_hierarchy, root=\"<ROOT>\")"
   ]
  },
  {
   "cell_type": "code",
   "execution_count": 444,
   "metadata": {},
   "outputs": [],
   "source": [
    "partclass_hierarchy = next_level(partclass_hierarchy, root=\"<ROOT>\")"
   ]
  },
  {
   "cell_type": "code",
   "execution_count": 438,
   "metadata": {},
   "outputs": [],
   "source": [
    "partclass_hierarchy = clean_levels(partclass_hierarchy, root=\"<ROOT>\")"
   ]
  },
  {
   "cell_type": "code",
   "execution_count": 365,
   "metadata": {},
   "outputs": [],
   "source": [
    "lst = save_dic(partclass_hierarchy, 'macpart_hi')"
   ]
  },
  {
   "cell_type": "code",
   "execution_count": 385,
   "metadata": {},
   "outputs": [
    {
     "name": "stdout",
     "output_type": "stream",
     "text": [
      "<ROOT> ['keyboard', 'harddrive', 'processor', 'modem', 'fan', 'battery', 'pmu', 'post', 'shield', 'case', 'opticaldrive', 'screw', 'drive', 'bracket', 'bezel', 'standoff', 'slot', 'magnet', 'chip', 'board', 'display', 'antenna', 'cable', 'tape', 'nut', 'ribbon', 'casing', 'subwoofer', 'inverter', 'motherboard', 'speaker', 'connector', 'microphone', 'lcd', 'assembly', 'trackpad', 'ssd', 'isight', 'panel', 'heatsink', 'cover', 'gasket', 'interposer', 'plate', 'sticker', 'hatch', 'expansion bay module', 'upper casing', 'card', 'small black plastic rectangle', 'pram battery', 'ram chip', 'silver', 'framework', 'cage', 'cd-rom drive tray', 'upper case', 'finger', 'trackpad support', 'black plastic bar', 'metal heat exchanger', 'fan or placeholder', 'foot', 'metal ring', 'cap', 'small greasy spring', 'grill', 'heat sink', 'door', 'function key', 'sleep light', 'bumper', 'holder', 'spacer', 'left io frame', 'mount', 'hinge', 'display inverter', 'translucent plastic sheath', 'sensor', 'pad', 'metal c-channel', 'bluetooth', 'mid wall', 'case clip', 'small washer', 'tape foil braided', 'camera', 'assembly speaker microphone', 'retainer', 'tape aluminum emi', 'rear vent', 'antenna strap', 'retaining flap', 'ram stick', '6mm t6 torx harddrive retaining post', 'cd dvd', 'heat sink unit', 'battery level indicator', 'battery level indicator button', 'plastic hinge guard', 'cable camera airport', 'headphone jack', 'duct', 'usb-c port', 'trackpad cover plate']\n",
      "\n",
      "screw ['phillips', 't8 torx', 'black t8 torx', 'silver phillips', 'long silver phillips 1', 'black torx', 'long silver torx', 'long torx', 'short torx', 'small torx', 'short black torx', 'torx', 't6 torx', 'black phillips', 'short t8 torx', 'long t8 torx', 'longer phillips', 'small phillips', 'short round-headed phillips', 'long round-headed phillips', 'short phillips', 'silver t8 torx', '00 phillips', 'black', 'small silver', 'large silver', '25mm phillips', '52mm phillips', '10mm', '42mm phillips', '5.8mm phillips', 'hex', '4.5mm phillips', '6mm phillips', '3.5mm phillips', '2.5mm phillips', '5mm phillips', '5.5mm phillips', '3mm phillips', '14.5mm phillips', '9mm phillips', 'single phillips', '7.5mm phillips', '4mm phillips', '2mm phillips', '14mm phillips', 'long black phillips', 'medium-length phillips', '7mm hex', '16.5mm hex', '15mm phillips', '10mm phillips', '13mm', 'large 7.5mm phillips', '13mm phillips', 'recessed phillips', '16mm phillips', 'bottom 5mm phillips', 'longer silver phillips', 'short black phillips', '6mm long silver phillips', '6mm', '4mm', '5mm', 'small black phillips', '12.4mm threaded phillips', '6.9mm t8 torx', '3.9mm t8 torx', '1.7mm phillips', '1.4mm t8 torx', 't8', '6.9mm', '3.9mm', '6.9mm large-headed', 'torx t8', 'evenly-spaced phillips', '14.5mm 00 phillips', '11mm 00 phillips', '3mm 00 phillips', '4mm 00 phillips', '6mm 00 phillips', '7mm shouldered phillips', '10.5mm phillips', '5.2mm shouldered 00 phillips', '8.5mm phillips', '2.8mm phillips', '8mm phillips', '3.2mm phillips', '4.2mm phillips', '3.4mm phillips', '14.5mm t6 torx', 'silver t6 torx', 'black 4mm t6 torx', '3.1mm phillips', 'black t6 torx', '6.5mm t6 torx', '7.8mm t6 torx', 'shanked 7.6mm t6 torx', 'black 4.3mm t6 torx', '1.3mm silver phillips', '3.2mm black phillips', '12mm phillips', '7.8mm silver t6 torx', 'long silver phillips', 'small 3mm black phillips', '9.5mm silver phillips', '6.5mm', '4.5mm', '3mm black phillips', '4.2mm silver phillips', '6.8mm shouldered', '9mm silver', '4mm silver', '5mm black', '28mm phillips', '145mm phillips', '10mm t6 torx', '32mm phillips', 't6', '3.3mm silver phillips', '6.2mm black phillips', '4.7mm silver t6 torx', '9.5mm silver t6 torx', 'third phillips', 'small silver phillips', '6.2mm black t6 torx', '4.4mm black phillips', '9.4mm silver t6 torx', '4.8mm black phillips', '1.2mm silver phillips', '6.25mm phillips', '3.25mm phillips', '5.2mm 00 phillips', '3.25mm 0 phillips', 'ground loop', '7.2mm phillips', '5.2mm phillips', 'fullthread 10mm t8 torx', 'shanked 13mm', 'black silver phillips', 'black 5mm phillips', 'silver 4mm phillips', '2mm 0 phillips', '3.2mm 00 phillips', '8.2mm t6 torx', '4.9mm', '3.1mm', '2.2mm', 'silver 9.5mm t6 torx', 'black 6mm t6 torx', '9.2mm fullthread t6 torx', 'silver 9.2mm t6 torx', '4.5mm right phillips', '11.5mm', '135mm phillips', '7mm phillips', 'black 0 phillips', '10.3mm phillips', '9.6mm threaded phillips', '9.9mm partially-threaded phillips', '6mm torx', '5.4mm phillips', '2.6mm phillips', '3.7mm phillips', '1.5mm phillips', '8.4mm phillips', '2.8mm', '5.4mm', '3.8mm', '3.8mm phillips', '4.7mm phillips', '3.9mm phillips', '1.9mm phillips', '6mm t6 torx', '5.9mm phillips', '1.5mm hex', '2.3mm phillips', '6.8mm t8 torx', '12.3mm phillips', '3.8mm t8 torx', '14.7mm shouldered phillips', '1.3mm phillips', '6.8mm t8', '11.1mm t8 torx', 't8 6.9mm torx', '2.1mm phillips', '7mm t8 torx', 'black 5.7mm t8 torx', 't6 10mm torx', '13.5mm tri-point', 'tri-point', '5.5mm tri-point', '6.5mm torx', '6.5mm phillips', '9.2mm phillips', '9.5mm phillips', 'five-point pentalobe', '3.5mm t6 torx', '5mm tri-point', '11mm phillips', '7.1mm phillips', '10mm t8 torx', '2.2mm phillips', '4.4mm t6 torx', '4.1mm t6 torx', '8.3mm shouldered phillips', '5mm tri-wing', '5-point pentalobe', '3.3mm t6 torx', '8mm t6 torx', '10.3mm t8 torx', 'black 3.2mm phillips', '6.3mm phillips', '13.5mm 14.1mm phillips', '7.4mm tri-point', '4.7mm t6 torx', '3.3mm phillips', '8.6mm phillips', '3.4mm t6 torx', '8.3mm phillips', '13.5mm phillips', '6.5mm tri-point', '1.6mm phillips', '6.8mm t6 torx', '7.9mm phillips', '2.9mm phillips', '5.4mm t6 torx', '7mm t6 torx', '5.6mm phillips', '4mm t6 torx', '6.5mm t8 torx', '8mm 5-point pentalobe', '2.5mm 5-point pentalobe', '2.9mm t5 torx', '52mm t5 torx', '6mm t5 torx', '26mm t5 torx', '5.7mm t8 torx', '3.6mm t5 torx', '5.2mm t5 torx', '2.5mm t5 torx', '4.9mm t8 torx', '9mm 5-point pentalobe', '2.6mm 5-point pentalobe', '6.3mm t5 torx', '2.4mm t5 torx', '2.7mm t5 torx', '2.85mm t5 torx', '1.4mm t5 torx', 'pair 10.3mm t8 torx', '2.7mm phillips', '5.7mm phillips', '14.4mm 00 phillips', '35mm shouldered 00 phillips', '35mm 00 phillips', '9.7mm phillips', '5.3mm t6 torx', '7.2mm t6 torx', '3.6mm t6 torx', '4.3mm t6 torx', '8.4mm 1 phillips', '6mm t8 torx', '4.1mm shouldered phillips', '13mm tri-point', '5.6mm tri-point', '24mm torx', '7.4mm y0 tri-point', '3.4mm 3.1 mm t6 torx', '1.2mm phillips', '1 phillips', '7.5mm 7.2mm tri-point', '9.6mm phillips', '8.6mm', '3.5mm 3.3mm', '3.2mm 3mm phillips', '8.6mm 7mm phillips', '2mm 00 phillips', '5.2mm t6 torx', '25mm 5-point pentalobe', '9mm p5 pentalobe', '26mm p5 pentalobe', '6.8mm long', '18mm long', '7.7mm long', '2.7mm 00 phillips', '3.1mm 00 phillips', '2.3mm 00 phillips', '1.9mm 00 phillips camera cable', 'p5 pentalobe', '3.1mm t5 torx', '4.4mm t5 torx', '5mm t5 torx', '3.9mm t5 wide torx', '3.5mm silver t5 torx', '3.8mm t5 torx', '5.8mm t5 torx', '2.6mm t5 torx', '5.2mm raised t5 torx', '2.4mm t5', '3.4mm t5', '1.5mm 00 phillips', '5.3mm t8 torx', '3.5mm t5 torx', '3.4mm t5 torx', '4mm t5 torx', '5.6mm t5 torx', '6.9mm t5 torx', '4.2mm t6 torx', 'silver 1.3mm 00 phillips', '7mm t6 torx shouldered', '2.8mm t6 torx', 'wide 6.4mm t6 torx', '2.3mm p5 pentalobe', '3mm p5 pentalobe', '6.8mm t5 torx', '3.3mm t5 torx', '2.4mm 00 phillips', '2.2mm t5 torx', '3.2mm t5 torx', '3.53mm t5 torx', '4.89mm t8 torx standoff', '1.4mm 0 phillips', '3mm t5 torx', '1.9mm 0 phillips', '4.6mm t5 torx', '5.5mm t5 torx', '5.5mm silver raised t5 torx', '3.8mm silver t5 torx', '5.7mm t5 torx', '5.5mm silver raised-head t5 torx', '3.5mm t5', '2.3mm pentalobe', '3mm pentalobe', '5mm 00 phillips', '2.4mm 0 phillips', '2.6mm t5', '2.1mm t5 torx', '6.5mm t5 torx', '3.7mm t5 torx', '1.7mm t5 torx', '3.5mm t9 torx standoff', '4.2mm t5 torx', '4.1mm t5 torx', '5.6mm t8 torx', '6.1mm p5 pentalobe', '2.9mm p5 pentalobe', '1.8mm p5 pentalobe', '1.1mm y00 tri-point', '4.1mm t3 torx', '4.3mm 00 phillips', '4.8mm t9 torx', '2.9mm t4 torx', '2.5mm t3 torx', '2.7mm t5', 'mm t5', 'pentalobe', '2.8mm t3', '0 phillips', '3.4mm', '6.2mm', '5.3mm', '3.7mm pancake', '2.1mm', '4.3mm', '5.8mm', '3.9mm t5 torx', '1.1mm 00 phillips', '2.5mm 00 phillips', '4.8mm t8 torx', 'None']\n",
      "\n",
      "cover ['clutch', 'battery', 'l-shaped memory', 'plastic dust', 'left bezel', 'memory compartment', 'battery cable', 'battery connector', 'cosmetic screw', 'thin steel lcd', 'memory', 'antenna', 'cable', 'thin plastic', 'speaker', 'rubber heat sink', 'rubber hinge', 'right', 'plastic', 'small plastic', 'rubber microphone cable', 'rubber microphone', 'rubber', 'left rubber', 'right rubber', 'aluminum hinge', 'left connector', 'right connector', 'l-shaped ram', 'None']\n",
      "\n",
      "card ['power', 'sound', 'airport', 'airport extreme', 'metal airport', 'ram', 'psram expansion', 'first']\n",
      "\n",
      "shield ['heat', 'modem', 'emi', 'ram', 'bottom', 'plastic', 'clear plastic', 'orange foil', 'metal', 'protective translucent', 'connector', 'None']\n",
      "\n",
      "silver ['long', '8.7mm']\n",
      "\n",
      "nut ['small metal', 'hex', '4mm', '4mm screw', '4mm hex', 'None']\n",
      "\n",
      "framework ['metal', 'plastic']\n",
      "\n",
      "cage ['pc card', 'expresscard']\n",
      "\n",
      "drive ['dvd', 'hard sensor cable assembly', 'hard sensor cable', 'cd-rom', 'floppy', 'None']\n",
      "\n",
      "board ['logic', 'charger', 'inverter', 'dc-in', 'modem filter', 'rj-11', 'bluetooth', 'usb', 'magsafe', 'io', 'right ambient light sensor', 'left ambient light sensor', 'right usb', 'ambient light sensor', 'left io', 'reed switch', 'antenna', 'led driver', 'camera', 'magsafe dc-in', 'airport', 'battery connector', 'audio jack', 'None']\n",
      "\n",
      "finger ['emi', 'silver emi', 'small emi']\n",
      "\n",
      "assembly ['display', 'bluetooth', 'speaker', 'screen', 'heat sink fan', 'lcd', 'right speaker', 'left speaker', 'heat sink', 'logic board', 'port hatch', 'harddrive', 'fan', 'clutch', 'rear speaker', 'display inverter', 'clutch hinge', 'ir sensor', 'components the trackball', 'camera', 'microphone', 'ssd', 'sleep sensor', 'upper case', 'trackpad', 'dual microphone', 'entire logic board', 'None']\n",
      "\n",
      "cable ['orange ribbon', 'pink white inverter', 'display data', 'attached', 'rj-11', 'opticaldrive', 'battery connector', 'audio', 'harddrive', 'antenna', 'isight', 'keyboard backlight ribbon', 'camera', 'bluetooth retainer assembly board', 'keyboard ribbon', 'airport retainer assembly board', 'airport bluetooth ribbon', 'microphone ribbon', 'io board', 'left speaker', 'trackpad ribbon', 'inverter', 'upper case', 'ribbon', 'green silver ribbon', 'camera board', 'airport antenna', 'io', 'hdmi data transfer', 'volume button ribbon', 'io board data', 'fan ribbon', 'right fan ribbon', 'isight camera', 'harddrive bracket', 'right speaker', 'fan', 'microphone', 'keyboard', 'microphone assembly ribbon', 'audio board ribbon', 'trackpad', 'keyboard data', 'battery board data', 'None']\n",
      "\n",
      "bracket ['metal', 'metal restraining', 'harddrive', 'small metal', 'silver metal harddrive', 'silver metal', 'gray metal retaining', 'retaining', 'small silver metal retaining', 'metal harddrive retaining', 'small plastic retaining', 'airport card', 'airport card retaining', 'display data cable', 'keyboard flex', 'camera cable', 'lvds cable', 'logic board', 'lcd retaining', 'small rectangular steel', 'small steel', 'upper case', 'trackpad', 'plastic', 'aluminum hinge', 'hinge', 'trackpad mounting', 'io board cable', 'trackpad cable connector', 'None']\n",
      "\n",
      "standoff ['5mm', 'screw', '14mm long 4mm', '4mm', '3.5mm t8 torx', 'None']\n",
      "\n",
      "foot ['rubber', 'broken or damaged']\n",
      "\n",
      "cap ['plastic', 'plastic end', 'gray plastic end', 'rubber screw', 'small rubber']\n",
      "\n",
      "tape ['foil', 'strip', 'yellow', 'orange', 'black', 'foam', 'amber', 'large', 'removable', 'aluminum', 'small yellow', 'small', 'long', 'yellow kapton', 'kapton', 'strip yellow', 'small strip', 'small black', 'small strip black', 'clear', 'emi', 'old adhesive', 'None']\n",
      "\n",
      "bezel ['io', 'rear', 'front display', 'rear display', 'opticaldrive', 'isight', 'None']\n",
      "\n",
      "grill ['rear plastic', 'hinge']\n",
      "\n",
      "connector ['battery', 'harddrive', 'trackpad', 'thermal sensor', 'opticaldrive', 'fan', 'right speaker', 'opticaldrive cable', 'rear speaker cable', 'subwoofer', 'harddrive cable', 'battery indicator cable', 'microphone', 'battery indicator', 'antenna', 'headphone jack', 'trackpad ribbon cable', 'keyboard backlight', 'ssd cable', 'headphone jack cable', 'magsafe cable', 'io board', 'io board cable', 'magsafe 2', 'dc-in board', 'battery power', 'None']\n",
      "\n",
      "door ['memory', 'access', 'io']\n",
      "\n",
      "sticker ['gray', 'foam', 'None']\n",
      "\n",
      "bumper ['black rubber', 'black', 'foam', 'rubber fan']\n",
      "\n",
      "holder ['gray bluetooth antenna', 'black bluetooth antenna']\n",
      "\n",
      "speaker ['left', 'right', 'None']\n",
      "\n",
      "spacer ['small black plastic', 'black plastic', 'small', 'plastic']\n",
      "\n",
      "antenna ['bluetooth', 'airport', 'cables inverter', 'center', 'None']\n",
      "\n",
      "mount ['hinge', 'right hinge', 'isight']\n",
      "\n",
      "hinge ['left clutch', 'right clutch', 'clutch', 'entire clutch']\n",
      "\n",
      "magnet ['sleep', 'display latch', 'left display latch', 'small', 'None']\n",
      "\n",
      "panel ['lcd', 'plastic', 'None']\n",
      "\n",
      "fan ['right', 'left', 'lift', 'None']\n",
      "\n",
      "ribbon ['orange keyboard backlight', 'keyboard', 'None']\n",
      "\n",
      "sensor ['thermal', 'left ambient light']\n",
      "\n",
      "pad ['black', 'foam']\n",
      "\n",
      "bluetooth ['card airport', 'board airport', 'bracket airport', 'cable airport', 'ribbon cable airport', 'assembly airport', 'connector airport']\n",
      "\n",
      "camera ['cable inverter', 'cable retainer antenna']\n",
      "\n",
      "retainer ['display data cable', 'camera cable', 'plastic', 'drive']\n",
      "\n",
      "gasket ['small rubber', 'rubber', 'None']\n",
      "\n",
      "subwoofer ['right cable speaker', 'right assembly speaker', 'None']\n",
      "\n",
      "duct ['right fan', 'left fan']\n",
      "\n"
     ]
    }
   ],
   "source": [
    "for key in partclass_hierarchy:\n",
    "    print(key, partclass_hierarchy[key])\n",
    "    print()"
   ]
  },
  {
   "cell_type": "code",
   "execution_count": 448,
   "metadata": {},
   "outputs": [
    {
     "name": "stdout",
     "output_type": "stream",
     "text": [
      "<ROOT> ['keyboard', 'harddrive', 'processor', 'modem', 'fan', 'battery', 'pmu', 'post', 'shield', 'case', 'opticaldrive', 'screw', 'drive', 'bracket', 'bezel', 'standoff', 'slot', 'magnet', 'chip', 'board', 'display', 'antenna', 'cable', 'tape', 'nut', 'ribbon', 'casing', 'subwoofer', 'inverter', 'motherboard', 'speaker', 'connector', 'microphone', 'lcd', 'assembly', 'trackpad', 'ssd', 'isight', 'panel', 'heatsink', 'cover', 'gasket', 'interposer', 'plate', 'sticker', 'hatch', 'expansion bay module', 'upper casing', 'card', 'small black plastic rectangle', 'pram battery', 'ram chip', 'silver', 'framework', 'cage', 'cd-rom drive tray', 'upper case', 'finger', 'trackpad support', 'black plastic bar', 'metal heat exchanger', 'fan or placeholder', 'foot', 'metal ring', 'cap', 'small greasy spring', 'grill', 'heat sink', 'door', 'function key', 'sleep light', 'bumper', 'holder', 'spacer', 'left io frame', 'mount', 'hinge', 'display inverter', 'translucent plastic sheath', 'sensor', 'pad', 'metal c-channel', 'bluetooth', 'mid wall', 'case clip', 'small washer', 'tape foil braided', 'camera', 'assembly speaker microphone', 'retainer', 'tape aluminum emi', 'rear vent', 'antenna strap', 'retaining flap', 'ram stick', '6mm t6 torx harddrive retaining post', 'cd dvd', 'heat sink unit', 'battery level indicator', 'battery level indicator button', 'plastic hinge guard', 'cable camera airport', 'headphone jack', 'duct', 'usb-c port', 'trackpad cover plate']\n",
      "\n",
      "screw ['phillips', 't8 torx', 'black t8 torx', 'silver phillips', 'long silver phillips 1', 'black torx', 'long silver torx', 'long torx', 'short torx', 'small torx', 'short black torx', 'torx', 't6 torx', 'black phillips', 'short t8 torx', 'long t8 torx', 'longer phillips', 'small phillips', 'short round-headed phillips', 'long round-headed phillips', 'short phillips', 'silver t8 torx', '00 phillips', 'black', 'small silver', 'large silver', '25mm phillips', '52mm phillips', '10mm', '42mm phillips', '5.8mm phillips', 'hex', '4.5mm phillips', '6mm phillips', '3.5mm phillips', '2.5mm phillips', '5mm phillips', '5.5mm phillips', '3mm phillips', '14.5mm phillips', '9mm phillips', 'single phillips', '7.5mm phillips', '4mm phillips', '2mm phillips', '14mm phillips', 'long black phillips', 'medium-length phillips', '7mm hex', '16.5mm hex', '15mm phillips', '10mm phillips', '13mm', 'large 7.5mm phillips', '13mm phillips', 'recessed phillips', '16mm phillips', 'bottom 5mm phillips', 'longer silver phillips', 'short black phillips', '6mm long silver phillips', '4mm', '5mm', '6mm', 'small black phillips', '12.4mm threaded phillips', '6.9mm t8 torx', '3.9mm t8 torx', '1.7mm phillips', '1.4mm t8 torx', 't8', '6.9mm', '3.9mm', '6.9mm large-headed', 'torx t8', 'evenly-spaced phillips', '14.5mm 00 phillips', '11mm 00 phillips', '3mm 00 phillips', '4mm 00 phillips', '6mm 00 phillips', '7mm shouldered phillips', '10.5mm phillips', '5.2mm shouldered 00 phillips', '8.5mm phillips', '2.8mm phillips', '8mm phillips', '3.2mm phillips', '4.2mm phillips', '3.4mm phillips', '14.5mm t6 torx', 'silver t6 torx', 'black 4mm t6 torx', '3.1mm phillips', 'black t6 torx', '6.5mm t6 torx', '7.8mm t6 torx', 'shanked 7.6mm t6 torx', 'black 4.3mm t6 torx', '1.3mm silver phillips', '3.2mm black phillips', '12mm phillips', '7.8mm silver t6 torx', 'long silver phillips', 'small 3mm black phillips', '9.5mm silver phillips', '6.5mm', '4.5mm', '3mm black phillips', '4.2mm silver phillips', '6.8mm shouldered', '9mm silver', '4mm silver', '5mm black', '28mm phillips', '145mm phillips', '10mm t6 torx', '32mm phillips', 't6', '3.3mm silver phillips', '6.2mm black phillips', '4.7mm silver t6 torx', '9.5mm silver t6 torx', 'third phillips', 'small silver phillips', '6.2mm black t6 torx', '4.4mm black phillips', '9.4mm silver t6 torx', '4.8mm black phillips', '1.2mm silver phillips', '6.25mm phillips', '3.25mm phillips', '5.2mm 00 phillips', '3.25mm 0 phillips', 'ground loop', '7.2mm phillips', '5.2mm phillips', 'fullthread 10mm t8 torx', 'shanked 13mm', 'black silver phillips', 'black 5mm phillips', 'silver 4mm phillips', '2mm 0 phillips', '3.2mm 00 phillips', '8.2mm t6 torx', '4.9mm', '3.1mm', '2.2mm', 'silver 9.5mm t6 torx', 'black 6mm t6 torx', '9.2mm fullthread t6 torx', 'silver 9.2mm t6 torx', '4.5mm right phillips', '11.5mm', '135mm phillips', '7mm phillips', 'black 0 phillips', '10.3mm phillips', '9.6mm threaded phillips', '9.9mm partially-threaded phillips', '6mm torx', '5.4mm phillips', '2.6mm phillips', '3.7mm phillips', '1.5mm phillips', '8.4mm phillips', '5.4mm', '2.8mm', '3.8mm', '3.8mm phillips', '4.7mm phillips', '3.9mm phillips', '1.9mm phillips', '6mm t6 torx', '5.9mm phillips', '1.5mm hex', '2.3mm phillips', '6.8mm t8 torx', '12.3mm phillips', '3.8mm t8 torx', '14.7mm shouldered phillips', '1.3mm phillips', '6.8mm t8', '11.1mm t8 torx', 't8 6.9mm torx', '2.1mm phillips', '7mm t8 torx', 'black 5.7mm t8 torx', 't6 10mm torx', '13.5mm tri-point', 'tri-point', '5.5mm tri-point', '6.5mm torx', '6.5mm phillips', '9.2mm phillips', '9.5mm phillips', 'five-point pentalobe', '3.5mm t6 torx', '5mm tri-point', '11mm phillips', '7.1mm phillips', '10mm t8 torx', '2.2mm phillips', '4.1mm t6 torx', '4.4mm t6 torx', '8.3mm shouldered phillips', '5mm tri-wing', '5-point pentalobe', '3.3mm t6 torx', '8mm t6 torx', '10.3mm t8 torx', 'black 3.2mm phillips', '6.3mm phillips', '13.5mm 14.1mm phillips', '7.4mm tri-point', '4.7mm t6 torx', '3.3mm phillips', '8.6mm phillips', '3.4mm t6 torx', '8.3mm phillips', '13.5mm phillips', '6.5mm tri-point', '1.6mm phillips', '6.8mm t6 torx', '7.9mm phillips', '2.9mm phillips', '5.4mm t6 torx', '7mm t6 torx', '5.6mm phillips', '4mm t6 torx', '6.5mm t8 torx', '8mm 5-point pentalobe', '2.5mm 5-point pentalobe', '2.9mm t5 torx', '52mm t5 torx', '6mm t5 torx', '26mm t5 torx', '5.7mm t8 torx', '3.6mm t5 torx', '5.2mm t5 torx', '2.5mm t5 torx', '4.9mm t8 torx', '9mm 5-point pentalobe', '2.6mm 5-point pentalobe', '6.3mm t5 torx', '2.4mm t5 torx', '2.7mm t5 torx', '2.85mm t5 torx', '1.4mm t5 torx', 'pair 10.3mm t8 torx', '2.7mm phillips', '5.7mm phillips', '14.4mm 00 phillips', '35mm shouldered 00 phillips', '35mm 00 phillips', '9.7mm phillips', '5.3mm t6 torx', '7.2mm t6 torx', '4.3mm t6 torx', '3.6mm t6 torx', '8.4mm 1 phillips', '6mm t8 torx', '4.1mm shouldered phillips', '13mm tri-point', '5.6mm tri-point', '24mm torx', '7.4mm y0 tri-point', '3.4mm 3.1 mm t6 torx', '1.2mm phillips', '1 phillips', '7.5mm 7.2mm tri-point', '9.6mm phillips', '8.6mm', '3.5mm 3.3mm', '3.2mm 3mm phillips', '8.6mm 7mm phillips', '2mm 00 phillips', '5.2mm t6 torx', '25mm 5-point pentalobe', '9mm p5 pentalobe', '26mm p5 pentalobe', '6.8mm long', '18mm long', '7.7mm long', '2.7mm 00 phillips', '3.1mm 00 phillips', '2.3mm 00 phillips', '1.9mm 00 phillips camera cable', 'p5 pentalobe', '3.1mm t5 torx', '5mm t5 torx', '4.4mm t5 torx', '3.9mm t5 wide torx', '3.5mm silver t5 torx', '3.8mm t5 torx', '5.8mm t5 torx', '2.6mm t5 torx', '5.2mm raised t5 torx', '2.4mm t5', '3.4mm t5', '1.5mm 00 phillips', '5.3mm t8 torx', '3.5mm t5 torx', '3.4mm t5 torx', '4mm t5 torx', '5.6mm t5 torx', '6.9mm t5 torx', '4.2mm t6 torx', 'silver 1.3mm 00 phillips', '2.8mm t6 torx', '7mm t6 torx shouldered', 'wide 6.4mm t6 torx', '2.3mm p5 pentalobe', '3mm p5 pentalobe', '6.8mm t5 torx', '3.3mm t5 torx', '2.4mm 00 phillips', '2.2mm t5 torx', '3.2mm t5 torx', '3.53mm t5 torx', '4.89mm t8 torx standoff', '1.4mm 0 phillips', '3mm t5 torx', '1.9mm 0 phillips', '4.6mm t5 torx', '5.5mm t5 torx', '5.5mm silver raised t5 torx', '3.8mm silver t5 torx', '5.7mm t5 torx', '5.5mm silver raised-head t5 torx', '3.5mm t5', '2.3mm pentalobe', '3mm pentalobe', '5mm 00 phillips', '2.4mm 0 phillips', '2.6mm t5', '2.1mm t5 torx', '6.5mm t5 torx', '3.7mm t5 torx', '1.7mm t5 torx', '3.5mm t9 torx standoff', '4.2mm t5 torx', '4.1mm t5 torx', '5.6mm t8 torx', '6.1mm p5 pentalobe', '2.9mm p5 pentalobe', '1.8mm p5 pentalobe', '1.1mm y00 tri-point', '4.1mm t3 torx', '4.3mm 00 phillips', '4.8mm t9 torx', '2.9mm t4 torx', '2.5mm t3 torx', '2.7mm t5', 'mm t5', 'pentalobe', '2.8mm t3', '0 phillips', '3.4mm', '6.2mm', '5.3mm', '3.7mm pancake', '2.1mm', '4.3mm', '5.8mm', '3.9mm t5 torx', '1.1mm 00 phillips', '2.5mm 00 phillips', '4.8mm t8 torx', 'None']\n",
      "\n",
      "cover ['clutch', 'battery', 'l-shaped memory', 'plastic dust', 'left bezel', 'memory compartment', 'battery cable', 'battery connector', 'cosmetic screw', 'thin steel lcd', 'memory', 'antenna', 'cable', 'thin plastic', 'speaker', 'rubber heat sink', 'rubber hinge', 'right', 'plastic', 'small plastic', 'rubber microphone cable', 'rubber microphone', 'rubber', 'left rubber', 'right rubber', 'aluminum hinge', 'left connector', 'right connector', 'l-shaped ram', 'None']\n",
      "\n",
      "card ['power', 'sound', 'airport', 'airport extreme', 'metal airport', 'ram', 'psram expansion', 'first']\n",
      "\n",
      "shield ['heat', 'modem', 'emi', 'ram', 'bottom', 'plastic', 'clear plastic', 'orange foil', 'metal', 'protective translucent', 'connector', 'None']\n",
      "\n",
      "silver ['long', '8.7mm']\n",
      "\n",
      "nut ['small metal', 'hex', '4mm', '4mm screw', '4mm hex', 'None']\n",
      "\n",
      "framework ['metal', 'plastic']\n",
      "\n",
      "cage ['pc card', 'expresscard']\n",
      "\n",
      "drive ['dvd', 'hard sensor cable assembly', 'hard sensor cable', 'cd-rom', 'floppy', 'None']\n",
      "\n",
      "board ['logic', 'charger', 'inverter', 'dc-in', 'modem filter', 'rj-11', 'bluetooth', 'usb', 'magsafe', 'io', 'right ambient light sensor', 'left ambient light sensor', 'right usb', 'ambient light sensor', 'left io', 'reed switch', 'antenna', 'led driver', 'camera', 'magsafe dc-in', 'airport', 'battery connector', 'audio jack', 'None']\n",
      "\n",
      "finger ['emi', 'silver emi', 'small emi']\n",
      "\n",
      "assembly ['display', 'bluetooth', 'speaker', 'screen', 'heat sink fan', 'lcd', 'right speaker', 'left speaker', 'heat sink', 'logic board', 'port hatch', 'harddrive', 'fan', 'clutch', 'rear speaker', 'display inverter', 'clutch hinge', 'ir sensor', 'components the trackball', 'camera', 'microphone', 'ssd', 'sleep sensor', 'upper case', 'trackpad', 'dual microphone', 'entire logic board', 'None']\n",
      "\n",
      "cable ['orange ribbon', 'pink white inverter', 'display data', 'attached', 'rj-11', 'opticaldrive', 'battery connector', 'audio', 'harddrive', 'antenna', 'isight', 'keyboard backlight ribbon', 'camera', 'bluetooth retainer assembly board', 'keyboard ribbon', 'airport retainer assembly board', 'airport bluetooth ribbon', 'microphone ribbon', 'io board', 'left speaker', 'trackpad ribbon', 'inverter', 'upper case', 'ribbon', 'green silver ribbon', 'camera board', 'airport antenna', 'io', 'hdmi data transfer', 'volume button ribbon', 'io board data', 'fan ribbon', 'right fan ribbon', 'isight camera', 'harddrive bracket', 'right speaker', 'fan', 'microphone', 'keyboard', 'microphone assembly ribbon', 'audio board ribbon', 'trackpad', 'keyboard data', 'battery board data', 'None']\n",
      "\n",
      "bracket ['metal', 'metal restraining', 'harddrive', 'small metal', 'silver metal harddrive', 'silver metal', 'gray metal retaining', 'retaining', 'small silver metal retaining', 'metal harddrive retaining', 'small plastic retaining', 'airport card', 'airport card retaining', 'display data cable', 'keyboard flex', 'camera cable', 'lvds cable', 'logic board', 'lcd retaining', 'small rectangular steel', 'small steel', 'upper case', 'trackpad', 'plastic', 'aluminum hinge', 'hinge', 'trackpad mounting', 'io board cable', 'trackpad cable connector', 'None']\n",
      "\n",
      "standoff ['5mm', 'screw', '14mm long 4mm', '4mm', '3.5mm t8 torx', 'None']\n",
      "\n",
      "foot ['rubber', 'broken or damaged']\n",
      "\n",
      "cap ['plastic', 'plastic end', 'gray plastic end', 'rubber screw', 'small rubber']\n",
      "\n",
      "tape ['foil', 'strip', 'yellow', 'orange', 'black', 'foam', 'amber', 'large', 'removable', 'aluminum', 'small yellow', 'small', 'long', 'yellow kapton', 'kapton', 'strip yellow', 'small strip', 'small black', 'small strip black', 'clear', 'emi', 'old adhesive', 'None']\n",
      "\n",
      "bezel ['io', 'rear', 'front display', 'rear display', 'opticaldrive', 'isight', 'None']\n",
      "\n",
      "grill ['rear plastic', 'hinge']\n",
      "\n",
      "connector ['battery', 'harddrive', 'trackpad', 'thermal sensor', 'opticaldrive', 'fan', 'right speaker', 'opticaldrive cable', 'rear speaker cable', 'subwoofer', 'harddrive cable', 'battery indicator cable', 'microphone', 'battery indicator', 'antenna', 'headphone jack', 'trackpad ribbon cable', 'keyboard backlight', 'ssd cable', 'headphone jack cable', 'magsafe cable', 'io board', 'io board cable', 'magsafe 2', 'dc-in board', 'battery power', 'None']\n",
      "\n",
      "door ['memory', 'access', 'io']\n",
      "\n",
      "sticker ['gray', 'foam', 'None']\n",
      "\n",
      "bumper ['black rubber', 'black', 'foam', 'rubber fan']\n",
      "\n",
      "holder ['gray bluetooth antenna', 'black bluetooth antenna']\n",
      "\n",
      "speaker ['left', 'right', 'None']\n",
      "\n",
      "spacer ['small black plastic', 'black plastic', 'small', 'plastic']\n",
      "\n",
      "antenna ['bluetooth', 'airport', 'cables inverter', 'center', 'None']\n",
      "\n",
      "mount ['hinge', 'right hinge', 'isight']\n",
      "\n",
      "hinge ['left clutch', 'right clutch', 'clutch', 'entire clutch']\n",
      "\n",
      "magnet ['sleep', 'display latch', 'left display latch', 'small', 'None']\n",
      "\n",
      "panel ['lcd', 'plastic', 'None']\n",
      "\n",
      "fan ['right', 'left', 'lift', 'None']\n",
      "\n",
      "ribbon ['orange keyboard backlight', 'keyboard', 'None']\n",
      "\n",
      "sensor ['thermal', 'left ambient light']\n",
      "\n",
      "pad ['black', 'foam']\n",
      "\n",
      "bluetooth ['card airport', 'board airport', 'bracket airport', 'cable airport', 'ribbon cable airport', 'assembly airport', 'connector airport']\n",
      "\n",
      "camera ['cable inverter', 'cable retainer antenna']\n",
      "\n",
      "retainer ['display data cable', 'camera cable', 'plastic', 'drive']\n",
      "\n",
      "gasket ['small rubber', 'rubber', 'None']\n",
      "\n",
      "subwoofer ['right cable speaker', 'right assembly speaker', 'None']\n",
      "\n",
      "duct ['right fan', 'left fan']\n",
      "\n"
     ]
    }
   ],
   "source": [
    "for key in partclass_hierarchy:\n",
    "    print(key, partclass_hierarchy[key])\n",
    "    print()"
   ]
  },
  {
   "cell_type": "code",
   "execution_count": 449,
   "metadata": {},
   "outputs": [],
   "source": [
    "def next_level(tclass_hierarchy, root):\n",
    "    keys = list(tclass_hierarchy.keys())\n",
    "    keys.remove(root)\n",
    "    for tool in keys:\n",
    "        for subtool in tclass_hierarchy[tool][:]:\n",
    "            words = subtool.split()\n",
    "            if len(words)>1:\n",
    "                if words[-1]+' '+tool not in tclass_hierarchy[tool]:\n",
    "                    tclass_hierarchy[tool].append(words[-1]+' '+tool)\n",
    "                tclass_hierarchy[words[-1]+' '+tool].append(' '.join(words[0:-1] +' ' +words[-1] ))\n",
    "                tclass_hierarchy[tool].remove(subtool)\n",
    "                if words[-1] in tclass_hierarchy[tool]: tclass_hierarchy[tool].remove(words[-1])\n",
    "            else:\n",
    "                if subtool in tclass_hierarchy[tool]: tclass_hierarchy[tool].remove(subtool)\n",
    "                tclass_hierarchy[tool].append(subtool+' '+tool)\n",
    "    return tclass_hierarchy"
   ]
  },
  {
   "cell_type": "code",
   "execution_count": 426,
   "metadata": {},
   "outputs": [],
   "source": [
    "def clean_levels(tclass_hierarchy, root):\n",
    "    keys = list(tclass_hierarchy.keys())\n",
    "    keys.remove(root)\n",
    "    for tool in list(tclass_hierarchy.keys()):\n",
    "        if len(tclass_hierarchy[tool])==1:\n",
    "            if tclass_hierarchy[tool][0] in tclass_hierarchy.keys():\n",
    "                if tool in tclass_hierarchy[root]: tclass_hierarchy[root].remove(tool)\n",
    "                tclass_hierarchy[root].append(tclass_hierarchy[tool][0])\n",
    "                del tclass_hierarchy[tool]\n",
    "            else:\n",
    "                for key in keys:\n",
    "                    if tool in tclass_hierarchy[key] and tclass_hierarchy[tool]:\n",
    "                        tclass_hierarchy[key].remove(tool)\n",
    "                        tclass_hierarchy[key].append(tclass_hierarchy[tool][0] + ' ' + tool)\n",
    "                        del tclass_hierarchy[tool]\n",
    "    return tclass_hierarchy"
   ]
  },
  {
   "cell_type": "code",
   "execution_count": null,
   "metadata": {},
   "outputs": [],
   "source": []
  }
 ],
 "metadata": {
  "kernelspec": {
   "display_name": "Python 3",
   "language": "python",
   "name": "python3"
  },
  "language_info": {
   "codemirror_mode": {
    "name": "ipython",
    "version": 3
   },
   "file_extension": ".py",
   "mimetype": "text/x-python",
   "name": "python",
   "nbconvert_exporter": "python",
   "pygments_lexer": "ipython3",
   "version": "3.6.7"
  }
 },
 "nbformat": 4,
 "nbformat_minor": 2
}
