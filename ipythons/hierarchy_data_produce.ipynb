{
 "cells": [
  {
   "cell_type": "code",
   "execution_count": 1,
   "metadata": {},
   "outputs": [],
   "source": [
    "from collections import Counter"
   ]
  },
  {
   "cell_type": "code",
   "execution_count": 2,
   "metadata": {},
   "outputs": [],
   "source": [
    "from sklearn_hierarchical_classification.constants import ROOT"
   ]
  },
  {
   "cell_type": "code",
   "execution_count": 3,
   "metadata": {},
   "outputs": [],
   "source": [
    "import pickle as pk\n",
    "def save_obj(obj, name):\n",
    "    \"\"\"\n",
    "    Saving the pickle object\n",
    "    \"\"\"\n",
    "    with open(name + '.pkl', 'wb') as file:\n",
    "        pk.dump(obj, file, pk.HIGHEST_PROTOCOL)\n",
    "\n",
    "\n",
    "def load_obj(name):\n",
    "    \"\"\"\n",
    "    loading the pickle object\n",
    "    \"\"\"\n",
    "    with open(name + '.pkl', 'rb') as file:\n",
    "        return pk.load(file)"
   ]
  },
  {
   "cell_type": "code",
   "execution_count": 4,
   "metadata": {},
   "outputs": [],
   "source": [
    "yamtools = load_obj('/home/nnabizad/code/toolpred/data/yam/yam_tools')\n",
    "ings = load_obj('/home/nnabizad/code/toolpred/data/yam/yam_ings')"
   ]
  },
  {
   "cell_type": "code",
   "execution_count": 99,
   "metadata": {},
   "outputs": [],
   "source": [
    "import string as st\n",
    "import re\n",
    "def cleaing(txt):\n",
    "    words = txt.split()\n",
    "    for word in words:\n",
    "        if word in st.punctuation: words.remove(word)\n",
    "        if word == 'and': words.remove(word)\n",
    "    txt = ' '.join(words)\n",
    "    re.sub(r'([^\\s\\w-]|_)+', '', txt)\n",
    "    return txt"
   ]
  },
  {
   "cell_type": "code",
   "execution_count": 122,
   "metadata": {},
   "outputs": [],
   "source": [
    "allrec = []\n",
    "for rec in ings:\n",
    "    _rec = []\n",
    "    for step in rec:\n",
    "        _step =[]\n",
    "        for _ing in step:\n",
    "            _step.append(cleaing(_ing))\n",
    "        _rec.append(set(_step))\n",
    "    allrec.append(_rec)"
   ]
  },
  {
   "cell_type": "code",
   "execution_count": 5,
   "metadata": {},
   "outputs": [],
   "source": [
    "from collections import defaultdict"
   ]
  },
  {
   "cell_type": "code",
   "execution_count": 367,
   "metadata": {},
   "outputs": [],
   "source": [
    "def hir_create(counts):\n",
    "    class_hierarchy = defaultdict(list)\n",
    "    for part in counts:\n",
    "        if counts[part]>1:\n",
    "            words = part.split()\n",
    "            if len(words)>1:\n",
    "                if ' '.join(words[0:-1]) not in class_hierarchy[words[-1]]:\n",
    "                    class_hierarchy[words[-1]].append(' '.join(words[0:-1]))\n",
    "            else:\n",
    "                class_hierarchy[\"<ROOT>\"].append(words[0])\n",
    "    return class_hierarchy"
   ]
  },
  {
   "cell_type": "code",
   "execution_count": 602,
   "metadata": {},
   "outputs": [],
   "source": [
    "def remove_ones(class_hierarchy, root):\n",
    "    for tool in class_hierarchy.copy():\n",
    "        if tool != root:\n",
    "            if len(class_hierarchy[tool])<2 and class_hierarchy[tool][0]+ ' ' + tool not in class_hierarchy[root]:\n",
    "                class_hierarchy[root].append(class_hierarchy[tool][0]+ ' ' + tool)\n",
    "                del class_hierarchy[tool]\n",
    "            else:\n",
    "                if tool in class_hierarchy[root]:\n",
    "                    class_hierarchy[tool].append('None')\n",
    "                else:\n",
    "                    class_hierarchy[root].append(tool)\n",
    "    return class_hierarchy"
   ]
  },
  {
   "cell_type": "code",
   "execution_count": 501,
   "metadata": {},
   "outputs": [],
   "source": [
    "def next_level(tclass_hierarchy, root):\n",
    "    keys = list(tclass_hierarchy.keys())\n",
    "    keys.remove(root)\n",
    "    for tool in keys:\n",
    "        for subtool in tclass_hierarchy[tool][:]:\n",
    "            words = subtool.split()\n",
    "            if len(words)>1:\n",
    "                if words[-1]+' '+tool not in tclass_hierarchy[tool]:\n",
    "                    tclass_hierarchy[tool].append(words[-1]+' '+tool)\n",
    "                tclass_hierarchy[words[-1]+' '+tool].append(' '.join(words[0:-1]))\n",
    "                tclass_hierarchy[tool].remove(subtool)\n",
    "    return tclass_hierarchy"
   ]
  },
  {
   "cell_type": "code",
   "execution_count": 600,
   "metadata": {},
   "outputs": [],
   "source": [
    "def clean_levels(tclass_hierarchy, root):\n",
    "    keys = list(tclass_hierarchy.keys())\n",
    "    keys.remove(root)\n",
    "    for tool in list(tclass_hierarchy.keys()):\n",
    "        if len(tclass_hierarchy[tool])<2:\n",
    "            if tclass_hierarchy[tool][0] in tclass_hierarchy.keys():\n",
    "                if tool in tclass_hierarchy[root]: tclass_hierarchy[root].remove(tool)\n",
    "                tclass_hierarchy[root].append(tclass_hierarchy[tool][0])\n",
    "                del tclass_hierarchy[tool]\n",
    "            else:\n",
    "                for key in keys:\n",
    "                    if tool in tclass_hierarchy[key] and tclass_hierarchy[tool]:\n",
    "                        tclass_hierarchy[key].remove(tool)\n",
    "                        tclass_hierarchy[key].append((' '.join(tclass_hierarchy[tool][0].split()[:-1]) + ' ' + tool).strip())\n",
    "                        del tclass_hierarchy[tool]\n",
    "    return tclass_hierarchy"
   ]
  },
  {
   "cell_type": "code",
   "execution_count": 503,
   "metadata": {},
   "outputs": [],
   "source": [
    "def isleaf(node,hierarchy):\n",
    "    if node in hierarchy.keys():\n",
    "        return False\n",
    "    else:\n",
    "        return True"
   ]
  },
  {
   "cell_type": "code",
   "execution_count": 504,
   "metadata": {},
   "outputs": [],
   "source": [
    "def check_dublicates(class_hierarchy):\n",
    "    myset = set()\n",
    "    for i in class_hierarchy:\n",
    "        for j in class_hierarchy[i]:\n",
    "            if j in myset and j not in class_hierarchy.keys():\n",
    "                print(j)\n",
    "            elif j not in class_hierarchy.keys():\n",
    "                myset.add(j)"
   ]
  },
  {
   "cell_type": "code",
   "execution_count": 629,
   "metadata": {},
   "outputs": [],
   "source": [
    "def addparents(i,tool):\n",
    "    if i.split()[-1] != tool.split()[0]:\n",
    "        return i + ' ' + tool\n",
    "    elif i.split()[-1] != tool.split()[-1]:\n",
    "        return i + ' ' + tool.split()[-1]\n",
    "    else:\n",
    "        return i"
   ]
  },
  {
   "cell_type": "code",
   "execution_count": 588,
   "metadata": {},
   "outputs": [],
   "source": [
    "def save_dic(dic, name):\n",
    "    mydic = dict()\n",
    "    keys = list(dic.keys())\n",
    "    keys.remove('<ROOT>')\n",
    "    mydic['<ROOT>'] = dic['<ROOT>']\n",
    "    for tool in keys:\n",
    "        if len(dic[tool])>0:\n",
    "            mydic[tool] = list(set([addparents(i,tool) for i in dic[tool]]))\n",
    "    save_obj(mydic, name)\n",
    "    return mydic"
   ]
  },
  {
   "cell_type": "code",
   "execution_count": 609,
   "metadata": {},
   "outputs": [],
   "source": [
    "mactools = load_obj('/home/nnabizad/code/toolpred/data/mac/mac_tools')\n",
    "allmactools = [i for j in mactools for k in j for i in k]\n",
    "toolscounts = Counter(allmactools)\n",
    "toolset = set(allmactools)"
   ]
  },
  {
   "cell_type": "code",
   "execution_count": 630,
   "metadata": {},
   "outputs": [],
   "source": [
    "toolclass_hierarchy = hir_create(toolscounts)"
   ]
  },
  {
   "cell_type": "code",
   "execution_count": 631,
   "metadata": {},
   "outputs": [],
   "source": [
    "toolclass_hierarchy = remove_ones(toolclass_hierarchy, root=\"<ROOT>\")"
   ]
  },
  {
   "cell_type": "code",
   "execution_count": 632,
   "metadata": {},
   "outputs": [],
   "source": [
    "toolclass_hierarchy = next_level(toolclass_hierarchy, root=\"<ROOT>\")"
   ]
  },
  {
   "cell_type": "code",
   "execution_count": 633,
   "metadata": {},
   "outputs": [],
   "source": [
    "toolclass_hierarchy = clean_levels(toolclass_hierarchy, root=\"<ROOT>\")"
   ]
  },
  {
   "cell_type": "code",
   "execution_count": 626,
   "metadata": {},
   "outputs": [
    {
     "data": {
      "text/plain": [
       "defaultdict(list,\n",
       "            {'<ROOT>': ['spudger',\n",
       "              'coin',\n",
       "              'paperclip',\n",
       "              'pin',\n",
       "              'tweezers',\n",
       "              'screwdriver',\n",
       "              'iopener',\n",
       "              'probe_and_pickset',\n",
       "              'arctic silver thermal paste',\n",
       "              'opening tool',\n",
       "              'plastic cards',\n",
       "              'arctic silver arcticlean',\n",
       "              'heat gun',\n",
       "              'heavy-duty suction cups pair',\n",
       "              'knife',\n",
       "              'wire striper',\n",
       "              'utility scissors',\n",
       "              'ipad battery isolation pick',\n",
       "              'hair dryer',\n",
       "              'suction handle',\n",
       "              'microfiber cleaning cloth',\n",
       "              'usb cable',\n",
       "              '99 isopropyl alcohol',\n",
       "              'adhesive remover',\n",
       "              'isopropyl alcohol wipes',\n",
       "              'nut driver'],\n",
       "             'screwdriver': ['None',\n",
       "              'phillips screwdriver',\n",
       "              'torx screwdriver',\n",
       "              'tri-point screwdriver',\n",
       "              'pentalobe screwdriver',\n",
       "              '2.5mm flathead screwdriver',\n",
       "              '1.5mm hex screwdriver'],\n",
       "             'knife': ['tech', 'precision utility knife'],\n",
       "             'phillips screwdriver': ['ph0 phillips',\n",
       "              'ph00 phillips',\n",
       "              'ph000 phillips'],\n",
       "             'torx screwdriver': ['t8 torx',\n",
       "              't6 torx',\n",
       "              't5 torx',\n",
       "              't10 torx',\n",
       "              't9 torx',\n",
       "              't3 torx',\n",
       "              't4 torx'],\n",
       "             'tri-point screwdriver': ['y0 tri-point',\n",
       "              'y1 tri-point',\n",
       "              'y00 tri-point'],\n",
       "             'pentalobe screwdriver': ['p6 pentalobe', 'p5 pentalobe'],\n",
       "             'nut driver': ['5mm nut', '4mm nut'],\n",
       "             'driver': [],\n",
       "             'flathead screwdriver': [],\n",
       "             'hex screwdriver': [],\n",
       "             'utility knife': []})"
      ]
     },
     "execution_count": 626,
     "metadata": {},
     "output_type": "execute_result"
    }
   ],
   "source": [
    "toolclass_hierarchy"
   ]
  },
  {
   "cell_type": "code",
   "execution_count": 615,
   "metadata": {},
   "outputs": [],
   "source": [
    "check_dublicates(toolclass_hierarchy)"
   ]
  },
  {
   "cell_type": "code",
   "execution_count": 635,
   "metadata": {},
   "outputs": [
    {
     "data": {
      "text/plain": [
       "{'<ROOT>': ['spudger',\n",
       "  'coin',\n",
       "  'paperclip',\n",
       "  'pin',\n",
       "  'tweezers',\n",
       "  'screwdriver',\n",
       "  'iopener',\n",
       "  'probe_and_pickset',\n",
       "  'arctic silver thermal paste',\n",
       "  'opening tool',\n",
       "  'plastic cards',\n",
       "  'arctic silver arcticlean',\n",
       "  'heat gun',\n",
       "  'heavy-duty suction cups pair',\n",
       "  'knife',\n",
       "  'wire striper',\n",
       "  'utility scissors',\n",
       "  'ipad battery isolation pick',\n",
       "  'hair dryer',\n",
       "  'suction handle',\n",
       "  'microfiber cleaning cloth',\n",
       "  'usb cable',\n",
       "  '99 isopropyl alcohol',\n",
       "  'adhesive remover',\n",
       "  'isopropyl alcohol wipes',\n",
       "  'nut driver'],\n",
       " 'screwdriver': ['None screwdriver',\n",
       "  'pentalobe screwdriver',\n",
       "  'torx screwdriver',\n",
       "  '1.5mm hex screwdriver',\n",
       "  'tri-point screwdriver',\n",
       "  '2.5mm flathead screwdriver',\n",
       "  'phillips screwdriver'],\n",
       " 'knife': ['tech knife', 'precision utility knife'],\n",
       " 'phillips screwdriver': ['ph00 phillips screwdriver',\n",
       "  'ph000 phillips screwdriver',\n",
       "  'ph0 phillips screwdriver'],\n",
       " 'torx screwdriver': ['t3 torx screwdriver',\n",
       "  't6 torx screwdriver',\n",
       "  't4 torx screwdriver',\n",
       "  't8 torx screwdriver',\n",
       "  't10 torx screwdriver',\n",
       "  't5 torx screwdriver',\n",
       "  't9 torx screwdriver'],\n",
       " 'tri-point screwdriver': ['y1 tri-point screwdriver',\n",
       "  'y00 tri-point screwdriver',\n",
       "  'y0 tri-point screwdriver'],\n",
       " 'pentalobe screwdriver': ['p6 pentalobe screwdriver',\n",
       "  'p5 pentalobe screwdriver'],\n",
       " 'nut driver': ['5mm nut driver', '4mm nut driver']}"
      ]
     },
     "execution_count": 635,
     "metadata": {},
     "output_type": "execute_result"
    }
   ],
   "source": [
    "lst = save_dic(toolclass_hierarchy, 'mactool_hi')\n",
    "lst"
   ]
  },
  {
   "cell_type": "code",
   "execution_count": 636,
   "metadata": {},
   "outputs": [
    {
     "name": "stdout",
     "output_type": "stream",
     "text": [
      "<ROOT> ['spudger', 'coin', 'paperclip', 'pin', 'tweezers', 'screwdriver', 'iopener', 'probe_and_pickset', 'arctic silver thermal paste', 'opening tool', 'plastic cards', 'arctic silver arcticlean', 'heat gun', 'heavy-duty suction cups pair', 'knife', 'wire striper', 'utility scissors', 'ipad battery isolation pick', 'hair dryer', 'suction handle', 'microfiber cleaning cloth', 'usb cable', '99 isopropyl alcohol', 'adhesive remover', 'isopropyl alcohol wipes', 'nut driver']\n",
      "\n",
      "screwdriver ['None screwdriver', 'pentalobe screwdriver', 'torx screwdriver', '1.5mm hex screwdriver', 'tri-point screwdriver', '2.5mm flathead screwdriver', 'phillips screwdriver']\n",
      "\n",
      "knife ['tech knife', 'precision utility knife']\n",
      "\n",
      "phillips screwdriver ['ph00 phillips screwdriver', 'ph000 phillips screwdriver', 'ph0 phillips screwdriver']\n",
      "\n",
      "torx screwdriver ['t3 torx screwdriver', 't6 torx screwdriver', 't4 torx screwdriver', 't8 torx screwdriver', 't10 torx screwdriver', 't5 torx screwdriver', 't9 torx screwdriver']\n",
      "\n",
      "tri-point screwdriver ['y1 tri-point screwdriver', 'y00 tri-point screwdriver', 'y0 tri-point screwdriver']\n",
      "\n",
      "pentalobe screwdriver ['p6 pentalobe screwdriver', 'p5 pentalobe screwdriver']\n",
      "\n",
      "nut driver ['5mm nut driver', '4mm nut driver']\n",
      "\n"
     ]
    }
   ],
   "source": [
    "for key in lst:\n",
    "    print(key, lst[key])\n",
    "    print()"
   ]
  },
  {
   "cell_type": "code",
   "execution_count": 637,
   "metadata": {},
   "outputs": [],
   "source": [
    "macparts = load_obj('/home/nnabizad/code/toolpred/data/mac/mac_parts')\n",
    "allmacparts = [i for j in macparts for k in j for i in k]\n",
    "partsscounts = Counter(allmacparts)"
   ]
  },
  {
   "cell_type": "code",
   "execution_count": 638,
   "metadata": {},
   "outputs": [],
   "source": [
    "partclass_hierarchy = hir_create(partsscounts)"
   ]
  },
  {
   "cell_type": "code",
   "execution_count": 639,
   "metadata": {},
   "outputs": [],
   "source": [
    "partclass_hierarchy = remove_ones(partclass_hierarchy, root=\"<ROOT>\")"
   ]
  },
  {
   "cell_type": "code",
   "execution_count": 640,
   "metadata": {},
   "outputs": [],
   "source": [
    "partclass_hierarchy = next_level(partclass_hierarchy, root=\"<ROOT>\")"
   ]
  },
  {
   "cell_type": "code",
   "execution_count": 641,
   "metadata": {},
   "outputs": [],
   "source": [
    "partclass_hierarchy = clean_levels(partclass_hierarchy, root=\"<ROOT>\")"
   ]
  },
  {
   "cell_type": "code",
   "execution_count": 645,
   "metadata": {},
   "outputs": [
    {
     "name": "stdout",
     "output_type": "stream",
     "text": [
      "<ROOT> ['keyboard', 'harddrive', 'processor', 'modem', 'fan', 'battery', 'pmu', 'post', 'shield', 'case', 'opticaldrive', 'screw', 'drive', 'bracket', 'bezel', 'standoff', 'slot', 'magnet', 'chip', 'board', 'display', 'antenna', 'cable', 'tape', 'nut', 'ribbon', 'casing', 'subwoofer', 'inverter', 'motherboard', 'speaker', 'connector', 'microphone', 'lcd', 'assembly', 'trackpad', 'ssd', 'isight', 'panel', 'heatsink', 'cover', 'gasket', 'interposer', 'plate', 'sticker', 'hatch', 'expansion bay module', 'upper casing', 'card', 'small black plastic rectangle', 'pram battery', 'ram chip', 'silver', 'framework', 'cage', 'cd-rom drive tray', 'upper case', 'trackpad support', 'black plastic bar', 'metal heat exchanger', 'fan or placeholder', 'foot', 'metal ring', 'cap', 'small greasy spring', 'grill', 'heat sink', 'door', 'function key', 'sleep light', 'bumper', 'spacer', 'left io frame', 'mount', 'display inverter', 'translucent plastic sheath', 'sensor', 'pad', 'metal c-channel', 'mid wall', 'case clip', 'small washer', 'tape foil braided', 'camera', 'assembly speaker microphone', 'retainer', 'tape aluminum emi', 'rear vent', 'antenna strap', 'retaining flap', 'ram stick', '6mm t6 torx harddrive retaining post', 'cd dvd', 'heat sink unit', 'battery level indicator', 'battery level indicator button', 'plastic hinge guard', 'cable camera airport', 'headphone jack', 'usb-c port', 'trackpad cover plate', 'emi finger', 'antenna holder', 'clutch hinge', 'airport bluetooth', 'fan duct', 'clutch hinge', 'harddrive bracket', 'airport card']\n",
      "\n",
      "screw ['4mm screw', '5mm tri-wing screw', 'torx screw', 'shouldered screw', '3.4mm screw', '3.8mm screw', '6.9mm large-headed screw', 'phillips screw', 'silver screw', '5mm black screw', 'tri-point screw', 'ground loop screw', '4.3mm screw', '3.1mm screw', 'None screw', '2.1mm screw', 'pentalobe screw', '5.8mm screw', '3.7mm pancake screw', 't5 screw', '4.9mm screw', '6mm screw', '2.8mm t3 screw', 't6 screw', '1.9mm 00 phillips camera cable screw', '10mm screw', 'hex screw', 'standoff screw', '5.4mm screw', '2.2mm screw', '6.2mm screw', '4.5mm screw', '3.9mm screw', '6.5mm screw', '5.3mm screw', '6.9mm screw', 'shanked 13mm screw', '5mm screw', 't8 screw', '8.6mm screw', '2.8mm screw', '11.5mm screw', 'long screw', '3.5mm 3.3mm screw']\n",
      "\n",
      "cover ['antenna cover', 'plastic cover', 'rubber microphone cover', 'cosmetic screw cover', 'l-shaped memory cover', 'left bezel cover', 'memory compartment cover', 'clutch cover', 'battery cover', 'speaker cover', 'connector cover', 'rubber cover', 'plastic dust cover', 'right cover', 'thin steel lcd cover', 'None cover', 'rubber heat sink cover', 'cable cover', 'l-shaped ram cover', 'hinge cover']\n",
      "\n",
      "card ['metal airport card', 'power card', 'first card', 'psram expansion card', 'airport extreme card', 'sound card', 'ram card']\n",
      "\n",
      "shield ['clear plastic shield', 'None shield', 'protective translucent shield', 'connector shield', 'ram shield', 'bottom shield', 'heat shield', 'emi shield', 'metal shield', 'orange foil shield', 'modem shield']\n",
      "\n",
      "silver ['8.7mm silver', 'long silver']\n",
      "\n",
      "nut ['4mm nut', '4mm hex nut', 'None nut', 'small metal nut', '4mm screw nut']\n",
      "\n",
      "framework ['metal framework', 'plastic framework']\n",
      "\n",
      "cage ['pc card cage', 'expresscard cage']\n",
      "\n",
      "drive ['cd-rom drive', 'hard sensor cable assembly drive', 'None drive', 'hard sensor cable drive', 'floppy drive', 'dvd drive']\n",
      "\n",
      "board ['camera board', 'magsafe dc-in board', 'audio jack board', 'charger board', 'magsafe board', 'inverter board', 'bluetooth board', 'battery connector board', 'modem filter board', 'airport board', 'logic board', 'right usb board', 'reed switch board', 'antenna board', 'left io board', 'led driver board', 'rj-11 board', 'sensor board', 'None board']\n",
      "\n",
      "assembly ['harddrive assembly', 'upper case assembly', 'board assembly', 'display assembly', 'hinge assembly', 'heat sink assembly', 'port hatch assembly', 'components the trackball assembly', 'sensor assembly', 'heat sink fan assembly', 'camera assembly', 'dual microphone assembly', 'None assembly', 'lcd assembly', 'ssd assembly', 'bluetooth assembly', 'clutch assembly', 'display inverter assembly', 'speaker assembly', 'trackpad assembly', 'screen assembly']\n",
      "\n",
      "cable ['harddrive cable', 'trackpad cable', 'board cable', 'None cable', 'battery connector cable', 'fan cable', 'rj-11 cable', 'speaker cable', 'hdmi data transfer cable', 'opticaldrive cable', 'pink white inverter cable', 'airport antenna cable', 'keyboard cable', 'attached cable', 'audio cable', 'upper case cable', 'isight cable', 'bracket cable', 'ribbon cable', 'io cable', 'data cable', 'microphone cable', 'isight camera cable']\n",
      "\n",
      "bracket ['trackpad cable connector bracket', 'metal restraining bracket', 'keyboard flex bracket', 'upper case bracket', 'cable bracket', 'retaining bracket', 'trackpad mounting bracket', 'card bracket', 'plastic bracket', 'metal bracket', 'None bracket', 'aluminum hinge bracket', 'steel bracket', 'trackpad bracket', 'silver metal harddrive bracket', 'logic board bracket']\n",
      "\n",
      "standoff ['5mm standoff', '3.5mm t8 torx standoff', 'None standoff', 'screw standoff', '14mm long 4mm standoff']\n",
      "\n",
      "foot ['rubber foot', 'broken or damaged foot']\n",
      "\n",
      "cap ['end cap', 'plastic cap', 'rubber screw cap', 'small rubber cap']\n",
      "\n",
      "tape ['emi tape', 'yellow kapton tape', 'foil tape', 'removable tape', 'orange tape', 'clear tape', 'amber tape', 'small tape', 'aluminum tape', 'foam tape', 'None tape', 'small strip tape', 'black tape', 'large tape', 'old adhesive tape', 'yellow tape', 'long tape']\n",
      "\n",
      "bezel ['opticaldrive bezel', 'rear bezel', 'display bezel', 'None bezel', 'isight bezel', 'io bezel']\n",
      "\n",
      "grill ['rear plastic grill', 'hinge grill']\n",
      "\n",
      "connector ['harddrive connector', 'fan connector', 'microphone connector', 'cable connector', 'battery power connector', 'opticaldrive connector', 'None connector', 'headphone jack connector', 'keyboard backlight connector', 'thermal sensor connector', 'battery indicator connector', 'trackpad connector', 'battery connector', 'right speaker connector', 'board connector', 'antenna connector', 'magsafe 2 connector', 'subwoofer connector']\n",
      "\n",
      "door ['access door', 'memory door', 'io door']\n",
      "\n",
      "sticker ['foam sticker', 'gray sticker', 'None sticker']\n",
      "\n",
      "bumper ['black rubber bumper', 'black bumper', 'rubber fan bumper', 'foam bumper']\n",
      "\n",
      "speaker ['None speaker', 'right speaker', 'left speaker']\n",
      "\n",
      "spacer ['small spacer', 'plastic spacer']\n",
      "\n",
      "antenna ['bluetooth antenna', 'airport antenna', 'None antenna', 'center antenna', 'cables inverter antenna']\n",
      "\n",
      "mount ['right hinge mount', 'isight mount']\n",
      "\n",
      "magnet ['None magnet', 'sleep magnet', 'small magnet', 'latch magnet']\n",
      "\n",
      "panel ['None panel', 'lcd panel', 'plastic panel']\n",
      "\n",
      "fan ['lift fan', 'right fan', 'None fan', 'left fan']\n",
      "\n",
      "ribbon ['keyboard ribbon', 'None ribbon', 'orange keyboard backlight ribbon']\n",
      "\n",
      "sensor ['left ambient light sensor', 'thermal sensor']\n",
      "\n",
      "pad ['foam pad', 'black pad']\n",
      "\n",
      "camera ['cable retainer antenna camera', 'cable inverter camera']\n",
      "\n",
      "retainer ['cable retainer', 'drive retainer', 'plastic retainer']\n",
      "\n",
      "gasket ['None gasket', 'small rubber gasket']\n",
      "\n",
      "subwoofer ['None subwoofer', 'speaker subwoofer']\n",
      "\n",
      "torx screw ['t8 torx screw', '6.5mm t6 torx screw', '3.6mm t5 torx screw', '5.4mm t6 torx screw', '3.1mm t5 torx screw', '4.9mm t8 torx screw', '3.5mm silver t5 torx screw', '6.5mm t5 torx screw', '7.8mm t6 torx screw', '3.9mm t8 torx screw', '3.3mm t6 torx screw', '6.8mm t8 torx screw', '3.6mm t6 torx screw', 'silver 9.2mm t6 torx screw', '6mm t8 torx screw', '2.85mm t5 torx screw', '5.2mm t5 torx screw', '6.9mm t8 torx screw', '3.8mm silver t5 torx screw', '3.7mm t5 torx screw', '6mm t6 torx screw', '3.5mm t6 torx screw', '1.7mm t5 torx screw', '2.1mm t5 torx screw', '9.2mm fullthread t6 torx screw', '4.7mm t6 torx screw', '5.7mm t5 torx screw', '6mm torx screw', '5.6mm t8 torx screw', 'black torx screw', '2.6mm t5 torx screw', '4.1mm t3 torx screw', 'wide 6.4mm t6 torx screw', '4.8mm t8 torx screw', '3.4mm t6 torx screw', '4mm t6 torx screw', 't6 10mm torx screw', '10mm t8 torx screw', 'silver t8 torx screw', '2.9mm t4 torx screw', '5.2mm raised t5 torx screw', 't6 torx screw', 'shanked 7.6mm t6 torx screw', 'fullthread 10mm t8 torx screw', '3.4mm 3.1 mm t6 torx screw', 'silver t6 torx screw', '4mm t5 torx screw', '4.1mm t5 torx screw', '3.8mm t5 torx screw', '14.5mm t6 torx screw', 'long silver torx screw', '8.2mm t6 torx screw', '4.4mm t5 torx screw', '3mm t5 torx screw', '6.8mm t6 torx screw', '5.5mm t5 torx screw', '4.2mm t5 torx screw', '9.5mm silver t6 torx screw', '3.2mm t5 torx screw', '3.9mm t5 torx screw', '52mm t5 torx screw', '7mm t6 torx screw', '2.8mm t6 torx screw', '5mm t5 torx screw', 'long t8 torx screw', '5.7mm t8 torx screw', 'pair 10.3mm t8 torx screw', 'short black torx screw', 't8 6.9mm torx screw', '2.7mm t5 torx screw', '4.7mm silver t6 torx screw', '5.8mm t5 torx screw', '4.1mm t6 torx screw', '6.8mm t5 torx screw', 'black 6mm t6 torx screw', '8mm t6 torx screw', '3.5mm t5 torx screw', '2.9mm t5 torx screw', '6.5mm torx screw', '6.3mm t5 torx screw', '4.8mm t9 torx screw', '6.2mm black t6 torx screw', 'black 5.7mm t8 torx screw', '6.9mm t5 torx screw', '4.2mm t6 torx screw', '24mm torx screw', '3.4mm t5 torx screw', '5.5mm silver raised t5 torx screw', '5.3mm t8 torx screw', '4.3mm t6 torx screw', '2.4mm t5 torx screw', '2.5mm t5 torx screw', '4.6mm t5 torx screw', '5.5mm silver raised-head t5 torx screw', '3.53mm t5 torx screw', '5.3mm t6 torx screw', '1.4mm t5 torx screw', '5.2mm t6 torx screw', '5.6mm t5 torx screw', 'black t8 torx screw', 'small torx screw', '7.2mm t6 torx screw', 'short t8 torx screw', 'silver 9.5mm t6 torx screw', '3.8mm t8 torx screw', 'black 4.3mm t6 torx screw', '6.5mm t8 torx screw', '7mm t8 torx screw', '2.2mm t5 torx screw', 'black 4mm t6 torx screw', '3.9mm t5 wide torx screw', '11.1mm t8 torx screw', 'black t6 torx screw', '10mm t6 torx screw', '2.5mm t3 torx screw', '1.4mm t8 torx screw', '6mm t5 torx screw', '3.3mm t5 torx screw', '26mm t5 torx screw', '4.4mm t6 torx screw', '9.4mm silver t6 torx screw', '10.3mm t8 torx screw', 'long torx screw', 'short torx screw', '7.8mm silver t6 torx screw']\n",
      "\n",
      "phillips screw ['3.2mm phillips screw', 'single phillips screw', '6.25mm phillips screw', '2mm 0 phillips screw', '9.6mm threaded phillips screw', '5.6mm phillips screw', '10mm phillips screw', '9mm phillips screw', '1.3mm silver phillips screw', '9.7mm phillips screw', '2mm phillips screw', '35mm 00 phillips screw', '145mm phillips screw', '4.7mm phillips screw', '6.5mm phillips screw', '8mm phillips screw', '8.6mm phillips screw', '4.5mm right phillips screw', '3.7mm phillips screw', '2mm 00 phillips screw', '1.2mm silver phillips screw', '4.3mm 00 phillips screw', 'silver phillips screw', 'silver 4mm phillips screw', '4.2mm phillips screw', 'black 3.2mm phillips screw', '3.8mm phillips screw', '7.9mm phillips screw', '3.25mm 0 phillips screw', 'small 3mm black phillips screw', 'longer silver phillips screw', '13.5mm 14.1mm phillips screw', '6.3mm phillips screw', '3.2mm 3mm phillips screw', '3.4mm phillips screw', '9.9mm partially-threaded phillips screw', '10.5mm phillips screw', '25mm phillips screw', '7mm shouldered phillips screw', '4.8mm black phillips screw', '3.3mm phillips screw', '2.5mm phillips screw', '7.1mm phillips screw', '7.2mm phillips screw', '10.3mm phillips screw', '9.2mm phillips screw', '00 phillips screw', '8.6mm 7mm phillips screw', '32mm phillips screw', '3.25mm phillips screw', '2.6mm phillips screw', '2.2mm phillips screw', '9.6mm phillips screw', '0 phillips screw', 'evenly-spaced phillips screw', '6mm phillips screw', '1.5mm 00 phillips screw', '1.4mm 0 phillips screw', '4mm 00 phillips screw', '16mm phillips screw', '52mm phillips screw', '4.5mm phillips screw', 'black 0 phillips screw', '14.5mm phillips screw', '5.9mm phillips screw', '11mm phillips screw', '3.3mm silver phillips screw', '13mm phillips screw', '2.8mm phillips screw', '13.5mm phillips screw', '9.5mm silver phillips screw', 'short round-headed phillips screw', 'medium-length phillips screw', 'recessed phillips screw', '2.4mm 00 phillips screw', '2.3mm phillips screw', '135mm phillips screw', '2.5mm 00 phillips screw', '1.7mm phillips screw', '7.5mm phillips screw', '42mm phillips screw', '8.3mm shouldered phillips screw', '28mm phillips screw', '3mm phillips screw', 'small black phillips screw', 'large 7.5mm phillips screw', 'short black phillips screw', '9.5mm phillips screw', '3.2mm 00 phillips screw', 'small phillips screw', '14.5mm 00 phillips screw', '7mm phillips screw', '1.6mm phillips screw', '12mm phillips screw', '6mm long silver phillips screw', 'small silver phillips screw', '3mm 00 phillips screw', '5mm phillips screw', '6mm 00 phillips screw', 'long silver phillips screw', '5.2mm phillips screw', '5.5mm phillips screw', '8.4mm phillips screw', '11mm 00 phillips screw', '35mm shouldered 00 phillips screw', '3.5mm phillips screw', '2.4mm 0 phillips screw', '3.1mm 00 phillips screw', '3.2mm black phillips screw', '14.7mm shouldered phillips screw', '5.2mm 00 phillips screw', '5.2mm shouldered 00 phillips screw', '2.9mm phillips screw', 'black silver phillips screw', '14.4mm 00 phillips screw', '5.7mm phillips screw', 'third phillips screw', '1 phillips screw', 'long round-headed phillips screw', '2.1mm phillips screw', '1.2mm phillips screw', '15mm phillips screw', '12.3mm phillips screw', '1.1mm 00 phillips screw', '8.5mm phillips screw', '2.7mm 00 phillips screw', '1.9mm phillips screw', '1.9mm 0 phillips screw', '5mm 00 phillips screw', 'black 5mm phillips screw', '4.4mm black phillips screw', '1.5mm phillips screw', '8.4mm 1 phillips screw', '4.1mm shouldered phillips screw', 'short phillips screw', '8.3mm phillips screw', '3.1mm phillips screw', '2.7mm phillips screw', '5.4mm phillips screw', '4.2mm silver phillips screw', '3.9mm phillips screw', '5.8mm phillips screw', 'black phillips screw', 'silver 1.3mm 00 phillips screw', 'long silver 1 phillips screw', 'bottom 5mm phillips screw', '12.4mm threaded phillips screw', '2.3mm 00 phillips screw', 'longer phillips screw', '3mm black phillips screw', '6.2mm black phillips screw', '1.3mm phillips screw', '4mm phillips screw', 'long black phillips screw', '14mm phillips screw']\n",
      "\n",
      "silver screw ['9mm silver screw', '4mm silver screw', 'small silver screw', 'large silver screw']\n",
      "\n",
      "hex screw ['1.5mm hex screw', '7mm hex screw', '16.5mm hex screw']\n",
      "\n",
      "t8 screw ['6.8mm t8 screw', 'torx t8 screw']\n",
      "\n",
      "shouldered screw ['6.8mm shouldered screw', '7mm t6 torx shouldered screw']\n",
      "\n",
      "tri-point screw ['5.5mm tri-point screw', '1.1mm y00 tri-point screw', '7.4mm tri-point screw', '13.5mm tri-point screw', '7.4mm y0 tri-point screw', '7.5mm 7.2mm tri-point screw', '13mm tri-point screw', '5.6mm tri-point screw', '5mm tri-point screw', '6.5mm tri-point screw']\n",
      "\n",
      "pentalobe screw ['2.3mm p5 pentalobe screw', '9mm p5 pentalobe screw', '3mm p5 pentalobe screw', '3mm pentalobe screw', '8mm 5-point pentalobe screw', '9mm 5-point pentalobe screw', '25mm 5-point pentalobe screw', '26mm p5 pentalobe screw', '2.5mm 5-point pentalobe screw', 'five-point pentalobe screw', '2.6mm 5-point pentalobe screw', '2.9mm p5 pentalobe screw', '1.8mm p5 pentalobe screw', '6.1mm p5 pentalobe screw', 'p5 pentalobe screw', '5-point pentalobe screw', '2.3mm pentalobe screw']\n",
      "\n",
      "long screw ['6.8mm long screw', '18mm long screw', '7.7mm long screw']\n",
      "\n",
      "t5 screw ['2.7mm t5 screw', '2.6mm t5 screw', '2.4mm t5 screw', '3.5mm t5 screw', 'mm t5 screw', '3.4mm t5 screw']\n",
      "\n",
      "standoff screw ['3.5mm t9 torx standoff screw', '4.89mm t8 torx standoff screw']\n",
      "\n",
      "cable cover ['rubber microphone cable cover', 'battery cable cover']\n",
      "\n",
      "connector cover ['battery connector cover', 'left connector cover', 'right connector cover']\n",
      "\n",
      "plastic cover ['small plastic cover', 'thin plastic cover']\n",
      "\n",
      "hinge cover ['rubber hinge cover', 'aluminum hinge cover']\n",
      "\n",
      "rubber cover ['right rubber cover', 'left rubber cover']\n",
      "\n",
      "sensor board ['ambient light sensor board', 'left ambient light sensor board', 'right ambient light sensor board']\n",
      "\n",
      "emi finger ['silver emi finger', 'small emi finger']\n",
      "\n",
      "speaker assembly ['right speaker assembly', 'left speaker assembly', 'rear speaker assembly']\n",
      "\n",
      "board assembly ['logic board assembly', 'entire logic board assembly']\n",
      "\n",
      "sensor assembly ['ir sensor assembly', 'sleep sensor assembly']\n",
      "\n",
      "ribbon cable ['keyboard ribbon cable', 'audio board ribbon cable', 'microphone ribbon cable', 'airport bluetooth ribbon cable', 'keyboard backlight ribbon cable', 'trackpad ribbon cable', 'orange ribbon cable', 'right fan ribbon cable', 'microphone assembly ribbon cable', 'fan ribbon cable', 'green silver ribbon cable', 'volume button ribbon cable']\n",
      "\n",
      "data cable ['display data cable', 'io board data cable', 'keyboard data cable', 'battery board data cable']\n",
      "\n",
      "board cable ['bluetooth retainer assembly board cable', 'camera board cable', 'io board cable', 'airport retainer assembly board cable']\n",
      "\n",
      "speaker cable ['right speaker cable', 'left speaker cable']\n",
      "\n",
      "metal bracket ['silver metal bracket', 'small metal bracket']\n",
      "\n",
      "retaining bracket ['small plastic retaining bracket', 'airport card retaining bracket', 'metal harddrive retaining bracket', 'small silver metal retaining bracket', 'gray metal retaining bracket', 'lcd retaining bracket']\n",
      "\n",
      "cable bracket ['io board cable bracket', 'camera cable bracket', 'lvds cable bracket', 'display data cable bracket']\n",
      "\n",
      "steel bracket ['small rectangular steel bracket', 'small steel bracket']\n",
      "\n",
      "end cap ['gray plastic end cap', 'plastic end cap']\n",
      "\n",
      "yellow tape ['small yellow tape', 'strip yellow tape']\n",
      "\n",
      "black tape ['small black tape', 'small strip black tape']\n",
      "\n",
      "display bezel ['rear display bezel', 'front display bezel']\n",
      "\n",
      "cable connector ['rear speaker cable connector', 'harddrive cable connector', 'ssd cable connector', 'headphone jack cable connector', 'trackpad ribbon cable connector', 'battery indicator cable connector', 'magsafe cable connector', 'io board cable connector', 'opticaldrive cable connector']\n",
      "\n",
      "board connector ['dc-in board connector', 'io board connector']\n",
      "\n",
      "antenna holder ['gray bluetooth antenna holder', 'black bluetooth antenna holder']\n",
      "\n",
      "plastic spacer ['black plastic spacer', 'small black plastic spacer']\n",
      "\n",
      "clutch hinge ['entire clutch hinge', 'left clutch hinge', 'right clutch hinge']\n",
      "\n",
      "latch magnet ['display latch magnet', 'left display latch magnet']\n",
      "\n",
      "airport bluetooth ['cable airport bluetooth', 'connector airport bluetooth', 'card airport bluetooth', 'bracket airport bluetooth', 'board airport bluetooth', 'ribbon cable airport bluetooth', 'assembly airport bluetooth']\n",
      "\n",
      "cable retainer ['camera cable retainer', 'display data cable retainer']\n",
      "\n",
      "speaker subwoofer ['right assembly speaker subwoofer', 'right cable speaker subwoofer']\n",
      "\n",
      "fan duct ['left fan duct', 'right fan duct']\n",
      "\n"
     ]
    }
   ],
   "source": [
    "lst = save_dic(partclass_hierarchy, 'macpart_hi')\n",
    "for key in lst:\n",
    "    print(key, lst[key])\n",
    "    print()"
   ]
  },
  {
   "cell_type": "code",
   "execution_count": 644,
   "metadata": {},
   "outputs": [],
   "source": [
    "check_dublicates(lst)"
   ]
  }
 ],
 "metadata": {
  "kernelspec": {
   "display_name": "Python 3",
   "language": "python",
   "name": "python3"
  },
  "language_info": {
   "codemirror_mode": {
    "name": "ipython",
    "version": 3
   },
   "file_extension": ".py",
   "mimetype": "text/x-python",
   "name": "python",
   "nbconvert_exporter": "python",
   "pygments_lexer": "ipython3",
   "version": "3.6.7"
  }
 },
 "nbformat": 4,
 "nbformat_minor": 2
}
