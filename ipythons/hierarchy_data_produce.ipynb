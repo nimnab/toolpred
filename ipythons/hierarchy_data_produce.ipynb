{
 "cells": [
  {
   "cell_type": "code",
   "execution_count": 1,
   "metadata": {},
   "outputs": [],
   "source": [
    "from collections import Counter"
   ]
  },
  {
   "cell_type": "code",
   "execution_count": 2,
   "metadata": {},
   "outputs": [],
   "source": [
    "from sklearn_hierarchical_classification.constants import ROOT"
   ]
  },
  {
   "cell_type": "code",
   "execution_count": 3,
   "metadata": {},
   "outputs": [],
   "source": [
    "import pickle as pk\n",
    "def save_obj(obj, name):\n",
    "    \"\"\"\n",
    "    Saving the pickle object\n",
    "    \"\"\"\n",
    "    with open(name + '.pkl', 'wb') as file:\n",
    "        pk.dump(obj, file, pk.HIGHEST_PROTOCOL)\n",
    "\n",
    "\n",
    "def load_obj(name):\n",
    "    \"\"\"\n",
    "    loading the pickle object\n",
    "    \"\"\"\n",
    "    with open(name + '.pkl', 'rb') as file:\n",
    "        return pk.load(file)"
   ]
  },
  {
   "cell_type": "code",
   "execution_count": 4,
   "metadata": {},
   "outputs": [],
   "source": [
    "yamtools = load_obj('/home/nnabizad/code/toolpred/data/yam/yam_tools')\n",
    "ings = load_obj('/home/nnabizad/code/toolpred/data/yam/yam_ings')"
   ]
  },
  {
   "cell_type": "code",
   "execution_count": 5,
   "metadata": {},
   "outputs": [],
   "source": [
    "import string as st\n",
    "import re\n",
    "def cleaing(txt):\n",
    "    words = txt.split()\n",
    "    for word in words:\n",
    "        if word in st.punctuation: words.remove(word)\n",
    "        if word == 'and': words.remove(word)\n",
    "    txt = ' '.join(words)\n",
    "    re.sub(r'([^\\s\\w-]|_)+', '', txt)\n",
    "    return txt"
   ]
  },
  {
   "cell_type": "code",
   "execution_count": 6,
   "metadata": {},
   "outputs": [],
   "source": [
    "allrec = []\n",
    "for rec in ings:\n",
    "    _rec = []\n",
    "    for step in rec:\n",
    "        _step =[]\n",
    "        for _ing in step:\n",
    "            _step.append(cleaing(_ing))\n",
    "        _rec.append(set(_step))\n",
    "    allrec.append(_rec)"
   ]
  },
  {
   "cell_type": "code",
   "execution_count": 7,
   "metadata": {},
   "outputs": [],
   "source": [
    "from collections import defaultdict"
   ]
  },
  {
   "cell_type": "code",
   "execution_count": 8,
   "metadata": {},
   "outputs": [],
   "source": [
    "def hir_create(counts):\n",
    "    class_hierarchy = defaultdict(list)\n",
    "    for part in counts:\n",
    "        if counts[part]>1:\n",
    "            words = part.split()\n",
    "            if len(words)>1:\n",
    "                if ' '.join(words[0:-1]) not in class_hierarchy[words[-1]]:\n",
    "                    class_hierarchy[words[-1]].append(' '.join(words[0:-1]))\n",
    "            else:\n",
    "                class_hierarchy[\"<ROOT>\"].append(words[0])\n",
    "    return class_hierarchy"
   ]
  },
  {
   "cell_type": "code",
   "execution_count": 9,
   "metadata": {},
   "outputs": [],
   "source": [
    "def remove_ones(class_hierarchy, root):\n",
    "    for tool in class_hierarchy.copy():\n",
    "        if tool != root:\n",
    "            if len(class_hierarchy[tool])<2 and class_hierarchy[tool][0]+ ' ' + tool not in class_hierarchy[root]:\n",
    "                class_hierarchy[root].append(class_hierarchy[tool][0]+ ' ' + tool)\n",
    "                del class_hierarchy[tool]\n",
    "            else:\n",
    "                if tool in class_hierarchy[root]:\n",
    "                    class_hierarchy[tool].append('None')\n",
    "                else:\n",
    "                    class_hierarchy[root].append(tool)\n",
    "    return class_hierarchy"
   ]
  },
  {
   "cell_type": "code",
   "execution_count": 63,
   "metadata": {},
   "outputs": [],
   "source": [
    "def next_level(tclass_hierarchy, root):\n",
    "    keys = list(tclass_hierarchy.keys())\n",
    "    keys.remove(root)\n",
    "    for tool in keys:\n",
    "        for subtool in tclass_hierarchy[tool][:]:\n",
    "            words = subtool.split()\n",
    "            if len(words)>1:\n",
    "                if words[-1]+' '+tool not in tclass_hierarchy[tool]:\n",
    "                    tclass_hierarchy[tool].append(words[-1]+' '+tool)\n",
    "                tclass_hierarchy[words[-1]+' '+tool].append(' '.join(words[0:-1]))\n",
    "                tclass_hierarchy[tool].remove(subtool)\n",
    "    return tclass_hierarchy"
   ]
  },
  {
   "cell_type": "code",
   "execution_count": 105,
   "metadata": {},
   "outputs": [],
   "source": [
    "def clean_levels(tclass_hierarchy, root):\n",
    "    keys = list(tclass_hierarchy.keys())\n",
    "    for tool in list(tclass_hierarchy.keys()):\n",
    "        if len(tclass_hierarchy[tool])<2:\n",
    "            if tclass_hierarchy[tool][0] in tclass_hierarchy.keys():\n",
    "                if tool in tclass_hierarchy[root]: tclass_hierarchy[root].remove(tool)\n",
    "                tclass_hierarchy[root].append(tclass_hierarchy[tool][0])\n",
    "                del tclass_hierarchy[tool]\n",
    "            else:\n",
    "                for key in keys:\n",
    "                    if tool in tclass_hierarchy[key] and tclass_hierarchy[tool]:\n",
    "                        tclass_hierarchy[key].remove(tool)\n",
    "                        tclass_hierarchy[key].append((' '.join(tclass_hierarchy[tool][0].split()[:-1]) + ' ' + tool).strip())\n",
    "                        del tclass_hierarchy[tool]\n",
    "    return tclass_hierarchy"
   ]
  },
  {
   "cell_type": "code",
   "execution_count": 12,
   "metadata": {},
   "outputs": [],
   "source": [
    "def isleaf(node,hierarchy):\n",
    "    if node in hierarchy.keys():\n",
    "        return False\n",
    "    else:\n",
    "        return True"
   ]
  },
  {
   "cell_type": "code",
   "execution_count": 13,
   "metadata": {},
   "outputs": [],
   "source": [
    "def check_dublicates(class_hierarchy):\n",
    "    myset = set()\n",
    "    for i in class_hierarchy:\n",
    "        for j in class_hierarchy[i]:\n",
    "            if j in myset and j not in class_hierarchy.keys():\n",
    "                print(j)\n",
    "            elif j not in class_hierarchy.keys():\n",
    "                myset.add(j)"
   ]
  },
  {
   "cell_type": "code",
   "execution_count": 14,
   "metadata": {},
   "outputs": [],
   "source": [
    "def addparents(i,tool):\n",
    "    if i.split()[-1] != tool.split()[0]:\n",
    "        return i + ' ' + tool\n",
    "    elif i.split()[-1] != tool.split()[-1]:\n",
    "        return i + ' ' + tool.split()[-1]\n",
    "    else:\n",
    "        return i"
   ]
  },
  {
   "cell_type": "code",
   "execution_count": 127,
   "metadata": {},
   "outputs": [],
   "source": [
    "def save_dic(dic, name, addparent=True):\n",
    "    mydic = dict()\n",
    "    keys = list(dic.keys())\n",
    "    keys.remove('<ROOT>')\n",
    "    mydic['<ROOT>'] = dic['<ROOT>']\n",
    "    for tool in keys:\n",
    "        if len(dic[tool])>0:\n",
    "            if addparent:\n",
    "                mydic[tool] = list(set([addparents(i,tool) for i in dic[tool]]))\n",
    "            else:\n",
    "                mydic[tool] = list(set(dic[tool]))\n",
    "    save_obj(mydic, name)\n",
    "    return mydic"
   ]
  },
  {
   "cell_type": "code",
   "execution_count": 16,
   "metadata": {},
   "outputs": [],
   "source": [
    "mactools = load_obj('/home/nnabizad/code/toolpred/data/mac/mac_tools')\n",
    "allmactools = [i for j in mactools for k in j for i in k]\n",
    "toolscounts = Counter(allmactools)\n",
    "toolset = set(allmactools)"
   ]
  },
  {
   "cell_type": "code",
   "execution_count": 18,
   "metadata": {},
   "outputs": [],
   "source": [
    "toolclass_hierarchy = hir_create(toolscounts)"
   ]
  },
  {
   "cell_type": "code",
   "execution_count": 19,
   "metadata": {},
   "outputs": [],
   "source": [
    "toolclass_hierarchy = remove_ones(toolclass_hierarchy, root=\"<ROOT>\")"
   ]
  },
  {
   "cell_type": "code",
   "execution_count": 20,
   "metadata": {},
   "outputs": [],
   "source": [
    "toolclass_hierarchy = next_level(toolclass_hierarchy, root=\"<ROOT>\")"
   ]
  },
  {
   "cell_type": "code",
   "execution_count": 21,
   "metadata": {},
   "outputs": [],
   "source": [
    "toolclass_hierarchy = clean_levels(toolclass_hierarchy, root=\"<ROOT>\")"
   ]
  },
  {
   "cell_type": "code",
   "execution_count": 22,
   "metadata": {},
   "outputs": [
    {
     "data": {
      "text/plain": [
       "defaultdict(list,\n",
       "            {'<ROOT>': ['spudger',\n",
       "              'coin',\n",
       "              'paperclip',\n",
       "              'pin',\n",
       "              'tweezers',\n",
       "              'screwdriver',\n",
       "              'iopener',\n",
       "              'probe_and_pickset',\n",
       "              'arctic silver thermal paste',\n",
       "              'opening tool',\n",
       "              'plastic cards',\n",
       "              'arctic silver arcticlean',\n",
       "              'heat gun',\n",
       "              'heavy-duty suction cups pair',\n",
       "              'knife',\n",
       "              'wire striper',\n",
       "              'utility scissors',\n",
       "              'ipad battery isolation pick',\n",
       "              'hair dryer',\n",
       "              'suction handle',\n",
       "              'microfiber cleaning cloth',\n",
       "              'usb cable',\n",
       "              '99 isopropyl alcohol',\n",
       "              'adhesive remover',\n",
       "              'isopropyl alcohol wipes',\n",
       "              'nut driver'],\n",
       "             'screwdriver': ['phillips',\n",
       "              'tri-point',\n",
       "              'None',\n",
       "              'phillips screwdriver',\n",
       "              'torx screwdriver',\n",
       "              'tri-point screwdriver',\n",
       "              'pentalobe screwdriver',\n",
       "              'flathead screwdriver',\n",
       "              'hex screwdriver'],\n",
       "             'knife': ['tech', 'utility knife'],\n",
       "             'phillips screwdriver': ['ph0', 'ph00', 'ph000'],\n",
       "             'torx screwdriver': ['t8', 't6', 't5', 't10', 't9', 't3', 't4'],\n",
       "             'tri-point screwdriver': ['y0', 'y1', 'y00'],\n",
       "             'pentalobe screwdriver': ['p6', 'p5'],\n",
       "             'nut driver': ['5mm', '4mm'],\n",
       "             'driver': [],\n",
       "             'flathead screwdriver': [],\n",
       "             'hex screwdriver': [],\n",
       "             'utility knife': []})"
      ]
     },
     "execution_count": 22,
     "metadata": {},
     "output_type": "execute_result"
    }
   ],
   "source": [
    "toolclass_hierarchy"
   ]
  },
  {
   "cell_type": "code",
   "execution_count": 23,
   "metadata": {},
   "outputs": [],
   "source": [
    "check_dublicates(toolclass_hierarchy)"
   ]
  },
  {
   "cell_type": "code",
   "execution_count": 24,
   "metadata": {},
   "outputs": [
    {
     "data": {
      "text/plain": [
       "{'<ROOT>': ['spudger',\n",
       "  'coin',\n",
       "  'paperclip',\n",
       "  'pin',\n",
       "  'tweezers',\n",
       "  'screwdriver',\n",
       "  'iopener',\n",
       "  'probe_and_pickset',\n",
       "  'arctic silver thermal paste',\n",
       "  'opening tool',\n",
       "  'plastic cards',\n",
       "  'arctic silver arcticlean',\n",
       "  'heat gun',\n",
       "  'heavy-duty suction cups pair',\n",
       "  'knife',\n",
       "  'wire striper',\n",
       "  'utility scissors',\n",
       "  'ipad battery isolation pick',\n",
       "  'hair dryer',\n",
       "  'suction handle',\n",
       "  'microfiber cleaning cloth',\n",
       "  'usb cable',\n",
       "  '99 isopropyl alcohol',\n",
       "  'adhesive remover',\n",
       "  'isopropyl alcohol wipes',\n",
       "  'nut driver'],\n",
       " 'screwdriver': ['phillips screwdriver',\n",
       "  'None screwdriver',\n",
       "  'flathead screwdriver',\n",
       "  'hex screwdriver',\n",
       "  'pentalobe screwdriver',\n",
       "  'torx screwdriver',\n",
       "  'tri-point screwdriver'],\n",
       " 'knife': ['tech knife', 'utility knife'],\n",
       " 'phillips screwdriver': ['ph00 phillips screwdriver',\n",
       "  'ph000 phillips screwdriver',\n",
       "  'ph0 phillips screwdriver'],\n",
       " 'torx screwdriver': ['t8 torx screwdriver',\n",
       "  't10 torx screwdriver',\n",
       "  't3 torx screwdriver',\n",
       "  't6 torx screwdriver',\n",
       "  't4 torx screwdriver',\n",
       "  't5 torx screwdriver',\n",
       "  't9 torx screwdriver'],\n",
       " 'tri-point screwdriver': ['y0 tri-point screwdriver',\n",
       "  'y1 tri-point screwdriver',\n",
       "  'y00 tri-point screwdriver'],\n",
       " 'pentalobe screwdriver': ['p5 pentalobe screwdriver',\n",
       "  'p6 pentalobe screwdriver'],\n",
       " 'nut driver': ['5mm nut driver', '4mm nut driver']}"
      ]
     },
     "execution_count": 24,
     "metadata": {},
     "output_type": "execute_result"
    }
   ],
   "source": [
    "lst = save_dic(toolclass_hierarchy, 'mactool_hi')\n",
    "lst"
   ]
  },
  {
   "cell_type": "code",
   "execution_count": 25,
   "metadata": {},
   "outputs": [
    {
     "name": "stdout",
     "output_type": "stream",
     "text": [
      "<ROOT> ['spudger', 'coin', 'paperclip', 'pin', 'tweezers', 'screwdriver', 'iopener', 'probe_and_pickset', 'arctic silver thermal paste', 'opening tool', 'plastic cards', 'arctic silver arcticlean', 'heat gun', 'heavy-duty suction cups pair', 'knife', 'wire striper', 'utility scissors', 'ipad battery isolation pick', 'hair dryer', 'suction handle', 'microfiber cleaning cloth', 'usb cable', '99 isopropyl alcohol', 'adhesive remover', 'isopropyl alcohol wipes', 'nut driver']\n",
      "\n",
      "screwdriver ['phillips screwdriver', 'None screwdriver', 'flathead screwdriver', 'hex screwdriver', 'pentalobe screwdriver', 'torx screwdriver', 'tri-point screwdriver']\n",
      "\n",
      "knife ['tech knife', 'utility knife']\n",
      "\n",
      "phillips screwdriver ['ph00 phillips screwdriver', 'ph000 phillips screwdriver', 'ph0 phillips screwdriver']\n",
      "\n",
      "torx screwdriver ['t8 torx screwdriver', 't10 torx screwdriver', 't3 torx screwdriver', 't6 torx screwdriver', 't4 torx screwdriver', 't5 torx screwdriver', 't9 torx screwdriver']\n",
      "\n",
      "tri-point screwdriver ['y0 tri-point screwdriver', 'y1 tri-point screwdriver', 'y00 tri-point screwdriver']\n",
      "\n",
      "pentalobe screwdriver ['p5 pentalobe screwdriver', 'p6 pentalobe screwdriver']\n",
      "\n",
      "nut driver ['5mm nut driver', '4mm nut driver']\n",
      "\n"
     ]
    }
   ],
   "source": [
    "for key in lst:\n",
    "    print(key, lst[key])\n",
    "    print()"
   ]
  },
  {
   "cell_type": "code",
   "execution_count": 26,
   "metadata": {},
   "outputs": [],
   "source": [
    "macparts = load_obj('/home/nnabizad/code/toolpred/data/mac/mac_parts')\n",
    "allmacparts = [i for j in macparts for k in j for i in k]\n",
    "partsscounts = Counter(allmacparts)"
   ]
  },
  {
   "cell_type": "code",
   "execution_count": 27,
   "metadata": {},
   "outputs": [],
   "source": [
    "partclass_hierarchy = hir_create(partsscounts)"
   ]
  },
  {
   "cell_type": "code",
   "execution_count": 28,
   "metadata": {},
   "outputs": [],
   "source": [
    "partclass_hierarchy = remove_ones(partclass_hierarchy, root=\"<ROOT>\")"
   ]
  },
  {
   "cell_type": "code",
   "execution_count": 29,
   "metadata": {},
   "outputs": [],
   "source": [
    "partclass_hierarchy = next_level(partclass_hierarchy, root=\"<ROOT>\")"
   ]
  },
  {
   "cell_type": "code",
   "execution_count": 30,
   "metadata": {},
   "outputs": [],
   "source": [
    "partclass_hierarchy = clean_levels(partclass_hierarchy, root=\"<ROOT>\")"
   ]
  },
  {
   "cell_type": "code",
   "execution_count": 31,
   "metadata": {},
   "outputs": [
    {
     "name": "stdout",
     "output_type": "stream",
     "text": [
      "<ROOT> ['keyboard', 'harddrive', 'processor', 'modem', 'fan', 'battery', 'pmu', 'post', 'shield', 'case', 'opticaldrive', 'screw', 'drive', 'bracket', 'bezel', 'standoff', 'slot', 'magnet', 'chip', 'board', 'display', 'antenna', 'cable', 'tape', 'nut', 'ribbon', 'casing', 'subwoofer', 'inverter', 'motherboard', 'speaker', 'connector', 'microphone', 'lcd', 'assembly', 'trackpad', 'ssd', 'isight', 'panel', 'heatsink', 'cover', 'gasket', 'interposer', 'plate', 'sticker', 'hatch', 'expansion bay module', 'upper casing', 'card', 'small black plastic rectangle', 'pram battery', 'ram chip', 'silver', 'framework', 'cage', 'cd-rom drive tray', 'upper case', 'finger', 'trackpad support', 'black plastic bar', 'metal heat exchanger', 'fan or placeholder', 'foot', 'metal ring', 'small greasy spring', 'cap', 'grill', 'heat sink', 'door', 'function key', 'sleep light', 'bumper', 'spacer', 'left io frame', 'mount', 'hinge', 'display inverter', 'translucent plastic sheath', 'sensor', 'pad', 'metal c-channel', 'mid wall', 'case clip', 'small washer', 'tape foil braided', 'camera', 'assembly speaker microphone', 'retainer', 'tape aluminum emi', 'rear vent', 'antenna strap', 'retaining flap', 'ram stick', '6mm t6 torx harddrive retaining post', 'cd dvd', 'heat sink unit', 'battery level indicator', 'battery level indicator button', 'plastic hinge guard', 'cable camera airport', 'headphone jack', 'usb-c port', 'trackpad cover plate', 'antenna holder', 'airport bluetooth', 'fan duct', 'cable', 'cable retainer']\n",
      "\n",
      "screw ['2.1mm screw', '1.9mm 00 phillips cable screw', '11.5mm screw', '3.8mm screw', 'phillips screw', '6.5mm screw', '6.2mm screw', 'loop screw', 'standoff screw', 't6 screw', '2.8mm screw', 'None screw', '6mm screw', 't8 screw', '6.9mm screw', '3.4mm screw', '3.3mm screw', 'long screw', '4.3mm screw', '5.8mm screw', '4.5mm screw', '4mm screw', '5mm screw', 'pancake screw', 'black screw', '8.6mm screw', '5.3mm screw', '4.9mm screw', 'shouldered screw', '3.9mm screw', '2.2mm screw', '13mm screw', 'hex screw', '5.4mm screw', 'pentalobe screw', '10mm screw', 'large-headed screw', 'tri-wing screw', 't3 screw', 'torx screw', 't5 screw', 'tri-point screw', 'silver screw', '3.1mm screw']\n",
      "\n",
      "cover ['battery cover', 'microphone cover', 'connector cover', 'hinge cover', 'bezel cover', 'clutch cover', 'plastic cover', 'memory cover', 'dust cover', 'ram cover', 'right cover', 'speaker cover', 'rubber sink cover', 'None cover', 'thin lcd cover', 'antenna cover', 'cable cover', 'rubber cover', 'screw cover', 'compartment cover']\n",
      "\n",
      "card ['expansion card', 'airport card', 'extreme card', 'first card', 'sound card', 'power card', 'ram card']\n",
      "\n",
      "shield ['bottom shield', 'plastic shield', 'metal shield', 'None shield', 'foil shield', 'emi shield', 'connector shield', 'heat shield', 'translucent shield', 'ram shield', 'modem shield']\n",
      "\n",
      "silver ['long silver', '8.7mm silver']\n",
      "\n",
      "nut ['screw nut', '4mm nut', 'metal nut', 'hex nut', 'None nut']\n",
      "\n",
      "framework ['plastic framework', 'metal framework']\n",
      "\n",
      "cage ['expresscard cage', 'card cage']\n",
      "\n",
      "drive ['hard sensor assembly drive', 'hard cable drive', 'cd-rom drive', 'None drive', 'dvd drive', 'floppy drive']\n",
      "\n",
      "board ['charger board', 'inverter board', 'bluetooth board', 'connector board', 'sensor board', 'io board', 'filter board', 'switch board', 'rj-11 board', 'magsafe board', 'antenna board', 'dc-in board', 'airport board', 'driver board', 'camera board', 'jack board', 'usb board', 'logic board', 'None board']\n",
      "\n",
      "finger ['emi finger']\n",
      "\n",
      "assembly ['hinge assembly', 'ssd assembly', 'None assembly', 'board assembly', 'hatch assembly', 'components trackball assembly', 'speaker assembly', 'bluetooth assembly', 'harddrive assembly', 'camera assembly', 'sink assembly', 'trackpad assembly', 'fan assembly', 'clutch assembly', 'microphone assembly', 'screen assembly', 'lcd assembly', 'heat fan assembly', 'inverter assembly', 'case assembly', 'sensor assembly', 'display assembly']\n",
      "\n",
      "cable ['ribbon cable', 'camera cable', 'io cable', 'connector cable', 'board cable', 'rj-11 cable', 'hdmi transfer cable', 'antenna cable', 'attached cable', 'harddrive cable', 'trackpad cable', 'microphone cable', 'None cable', 'opticaldrive cable', 'speaker cable', 'case cable', 'fan cable', 'isight cable', 'pink inverter cable', 'audio cable', 'keyboard cable', 'inverter cable', 'data cable', 'bracket cable']\n",
      "\n",
      "bracket ['retaining bracket', 'None bracket', 'board bracket', 'flex bracket', 'steel bracket', 'mounting bracket', 'trackpad connector bracket', 'card bracket', 'restraining bracket', 'plastic bracket', 'cable bracket', 'case bracket', 'hinge bracket', 'silver harddrive bracket', 'harddrive bracket', 'trackpad bracket', 'metal bracket']\n",
      "\n",
      "standoff ['14mm 4mm standoff', '5mm standoff', 'screw standoff', '4mm standoff', '3.5mm torx standoff', 'None standoff']\n",
      "\n",
      "foot ['broken damaged foot', 'rubber foot']\n",
      "\n",
      "cap ['rubber cap', 'end cap', 'screw cap', 'plastic cap']\n",
      "\n",
      "tape ['aluminum tape', 'emi tape', 'adhesive tape', 'strip tape', 'foam tape', 'removable tape', 'yellow tape', 'black tape', 'orange tape', 'clear tape', 'foil tape', 'amber tape', 'large tape', 'kapton tape', 'None tape', 'small tape', 'long tape']\n",
      "\n",
      "bezel ['opticaldrive bezel', 'rear bezel', 'display bezel', 'io bezel', 'isight bezel', 'None bezel']\n",
      "\n",
      "grill ['hinge grill', 'plastic grill']\n",
      "\n",
      "connector ['fan connector', 'board connector', 'sensor connector', 'trackpad connector', 'indicator connector', 'speaker connector', '2 connector', 'opticaldrive connector', 'backlight connector', 'battery connector', 'None connector', 'microphone connector', 'subwoofer connector', 'antenna connector', 'harddrive connector', 'jack connector', 'power connector', 'cable connector']\n",
      "\n",
      "door ['io door', 'access door', 'memory door']\n",
      "\n",
      "sticker ['None sticker', 'gray sticker', 'foam sticker']\n",
      "\n",
      "bumper ['foam bumper', 'rubber bumper', 'fan bumper', 'black bumper']\n",
      "\n",
      "speaker ['right speaker', 'None speaker', 'left speaker']\n",
      "\n",
      "spacer ['small spacer', 'plastic spacer']\n",
      "\n",
      "antenna ['center antenna', 'bluetooth antenna', 'airport antenna', 'None antenna', 'inverter antenna']\n",
      "\n",
      "mount ['hinge mount', 'isight mount']\n",
      "\n",
      "hinge ['clutch hinge']\n",
      "\n",
      "magnet ['None magnet', 'small magnet', 'sleep magnet', 'latch magnet']\n",
      "\n",
      "panel ['None panel', 'plastic panel', 'lcd panel']\n",
      "\n",
      "fan ['left fan', 'right fan', 'lift fan', 'None fan']\n",
      "\n",
      "ribbon ['None ribbon', 'orange backlight ribbon', 'keyboard ribbon']\n",
      "\n",
      "sensor ['thermal sensor', 'left light sensor']\n",
      "\n",
      "pad ['black pad', 'foam pad']\n",
      "\n",
      "camera ['inverter camera', 'antenna camera']\n",
      "\n",
      "retainer ['plastic retainer', 'cable retainer', 'drive retainer']\n",
      "\n",
      "gasket ['rubber gasket', 'None gasket']\n",
      "\n",
      "subwoofer ['None subwoofer', 'speaker subwoofer']\n",
      "\n",
      "torx screw ['24mm torx screw', '6.8mm t6 torx screw', 'black torx screw', 'black t8 torx screw', 'wide 6.4mm t6 torx screw', '7.8mm silver t6 torx screw', 'pair 10.3mm t8 torx screw', '6.5mm t8 torx screw', 'silver 9.2mm t6 torx screw', '4.6mm t5 torx screw', 'silver t6 torx screw', '8mm t6 torx screw', '4.8mm t9 torx screw', '10.3mm t8 torx screw', '6mm t8 torx screw', 'black 5.7mm t8 torx screw', '4.7mm t6 torx screw', '1.4mm t5 torx screw', '4.9mm t8 torx screw', '2.5mm t5 torx screw', '2.2mm t5 torx screw', 't6 torx screw', '3.3mm t5 torx screw', '4.2mm t5 torx screw', '3.6mm t6 torx screw', 't8 6.9mm torx screw', 'small torx screw', 'long torx screw', '52mm t5 torx screw', '4.7mm silver t6 torx screw', '4.3mm t6 torx screw', 'black 4mm t6 torx screw', '3.6mm t5 torx screw', '5.3mm t6 torx screw', '4.1mm t3 torx screw', '5.2mm raised t5 torx screw', '3.9mm t5 torx screw', '7.8mm t6 torx screw', '3.1mm t5 torx screw', 'short black torx screw', 'short t8 torx screw', '5.5mm silver raised t5 torx screw', '3.9mm t5 wide torx screw', 'fullthread 10mm t8 torx screw', '5.3mm t8 torx screw', '2.7mm t5 torx screw', '11.1mm t8 torx screw', '6.8mm t8 torx screw', '4.4mm t6 torx screw', '6.8mm t5 torx screw', '6.5mm t6 torx screw', '4.4mm t5 torx screw', '6mm torx screw', 'black 6mm t6 torx screw', '6.5mm t5 torx screw', '5.4mm t6 torx screw', '5.5mm t5 torx screw', '6.2mm black t6 torx screw', '5.8mm t5 torx screw', 'silver 9.5mm t6 torx screw', 'long silver torx screw', '4.2mm t6 torx screw', '4mm t5 torx screw', '2.8mm t6 torx screw', '5.7mm t8 torx screw', 'short torx screw', '2.9mm t4 torx screw', 'black 4.3mm t6 torx screw', '3.7mm t5 torx screw', 'long t8 torx screw', '2.9mm t5 torx screw', 't6 10mm torx screw', 'shanked 7.6mm t6 torx screw', '5.2mm t6 torx screw', '9.5mm silver t6 torx screw', '5.2mm t5 torx screw', '3.4mm t6 torx screw', '4mm t6 torx screw', '2.85mm t5 torx screw', '3.8mm silver t5 torx screw', '26mm t5 torx screw', '3.2mm t5 torx screw', '6.3mm t5 torx screw', '1.7mm t5 torx screw', '14.5mm t6 torx screw', '3.8mm t8 torx screw', '4.8mm t8 torx screw', 'silver t8 torx screw', '6mm t5 torx screw', '4.1mm t6 torx screw', '3.4mm t5 torx screw', '3.5mm silver t5 torx screw', '7mm t6 torx screw', '3.9mm t8 torx screw', '6.5mm torx screw', '3mm t5 torx screw', '6mm t6 torx screw', '10mm t6 torx screw', '6.9mm t8 torx screw', '6.9mm t5 torx screw', '9.2mm fullthread t6 torx screw', '3.53mm t5 torx screw', 'black t6 torx screw', '2.6mm t5 torx screw', 't8 torx screw', '2.5mm t3 torx screw', '1.4mm t8 torx screw', '3.5mm t5 torx screw', '7mm t8 torx screw', '3.5mm t6 torx screw', '3.3mm t6 torx screw', '5.7mm t5 torx screw', '5.5mm silver raised-head t5 torx screw', '4.1mm t5 torx screw', '5.6mm t5 torx screw', '3.4mm 3.1 mm t6 torx screw', '5mm t5 torx screw', '10mm t8 torx screw', '5.6mm t8 torx screw', '2.4mm t5 torx screw', '8.2mm t6 torx screw', '3.8mm t5 torx screw', '2.1mm t5 torx screw', '7.2mm t6 torx screw', '9.4mm silver t6 torx screw']\n",
      "\n",
      "phillips screw ['3.8mm phillips screw', '1.2mm silver phillips screw', '14.4mm 00 phillips screw', '6mm 00 phillips screw', 'silver phillips screw', '3.1mm 00 phillips screw', '4.8mm black phillips screw', '4.4mm black phillips screw', '9.6mm threaded phillips screw', 'silver 4mm phillips screw', '6.2mm black phillips screw', '5mm phillips screw', 'black silver phillips screw', '145mm phillips screw', 'long round-headed phillips screw', '1.4mm 0 phillips screw', '15mm phillips screw', '35mm 00 phillips screw', '3.2mm black phillips screw', '2.7mm 00 phillips screw', '5.9mm phillips screw', 'long silver 1 phillips screw', '8.3mm shouldered phillips screw', 'short black phillips screw', '3.4mm phillips screw', '2.8mm phillips screw', '2mm 0 phillips screw', '8mm phillips screw', '8.4mm phillips screw', '52mm phillips screw', '9.6mm phillips screw', '2.1mm phillips screw', '7.2mm phillips screw', '8.6mm 7mm phillips screw', '1.2mm phillips screw', '3.25mm 0 phillips screw', '8.4mm 1 phillips screw', '9.5mm silver phillips screw', '14mm phillips screw', '00 phillips screw', '8.3mm phillips screw', '12.4mm threaded phillips screw', '3.25mm phillips screw', '5.7mm phillips screw', '2.5mm phillips screw', '5.2mm 00 phillips screw', '6.3mm phillips screw', 'longer phillips screw', '10mm phillips screw', '1.5mm phillips screw', '13.5mm 14.1mm phillips screw', '6.5mm phillips screw', 'recessed phillips screw', '4.3mm 00 phillips screw', '2.4mm 00 phillips screw', '1 phillips screw', 'black phillips screw', '7.5mm phillips screw', '11mm phillips screw', '2mm 00 phillips screw', '12.3mm phillips screw', '4.1mm shouldered phillips screw', '3.1mm phillips screw', '5.8mm phillips screw', 'longer silver phillips screw', '2.4mm 0 phillips screw', 'long silver phillips screw', '1.9mm phillips screw', '3mm 00 phillips screw', '2.5mm 00 phillips screw', '9.9mm partially-threaded phillips screw', '32mm phillips screw', '5mm 00 phillips screw', '13.5mm phillips screw', '42mm phillips screw', '1.7mm phillips screw', '7.9mm phillips screw', '4.5mm phillips screw', '5.5mm phillips screw', '7mm phillips screw', '7mm shouldered phillips screw', '9.7mm phillips screw', '3.5mm phillips screw', '6mm phillips screw', '14.5mm phillips screw', '13mm phillips screw', '8.6mm phillips screw', '9.5mm phillips screw', 'evenly-spaced phillips screw', '3.2mm 00 phillips screw', '2.6mm phillips screw', '4mm 00 phillips screw', 'small 3mm black phillips screw', '4.2mm phillips screw', '3.2mm 3mm phillips screw', '5.4mm phillips screw', '3.7mm phillips screw', '12mm phillips screw', '4mm phillips screw', '3.3mm phillips screw', '11mm 00 phillips screw', '4.5mm right phillips screw', '14.5mm 00 phillips screw', '1.6mm phillips screw', '14.7mm shouldered phillips screw', '2.7mm phillips screw', '6mm long silver phillips screw', '2.9mm phillips screw', '8.5mm phillips screw', '2mm phillips screw', '5.2mm shouldered 00 phillips screw', '1.9mm 0 phillips screw', '1.3mm phillips screw', 'large 7.5mm phillips screw', '25mm phillips screw', '0 phillips screw', '3mm black phillips screw', '2.2mm phillips screw', 'short phillips screw', '2.3mm phillips screw', '1.1mm 00 phillips screw', '2.3mm 00 phillips screw', '28mm phillips screw', '35mm shouldered 00 phillips screw', 'short round-headed phillips screw', '10.3mm phillips screw', 'black 5mm phillips screw', '4.7mm phillips screw', '1.3mm silver phillips screw', '3.3mm silver phillips screw', '4.2mm silver phillips screw', '7.1mm phillips screw', '16mm phillips screw', '3mm phillips screw', '3.9mm phillips screw', '1.5mm 00 phillips screw', '3.2mm phillips screw', 'single phillips screw', '5.6mm phillips screw', '9mm phillips screw', '135mm phillips screw', 'medium-length phillips screw', 'third phillips screw', 'small silver phillips screw', '9.2mm phillips screw', 'long black phillips screw', '6.25mm phillips screw', '10.5mm phillips screw', 'silver 1.3mm 00 phillips screw', 'black 0 phillips screw', 'small phillips screw', '5.2mm phillips screw', 'black 3.2mm phillips screw', 'small black phillips screw', 'bottom 5mm phillips screw']\n",
      "\n",
      "silver screw ['9mm silver screw', '4mm silver screw', 'large silver screw', 'small silver screw']\n",
      "\n",
      "hex screw ['16.5mm hex screw', '1.5mm hex screw', '7mm hex screw']\n",
      "\n",
      "t8 screw ['6.8mm t8 screw', 'torx t8 screw']\n",
      "\n",
      "shouldered screw ['6.8mm shouldered screw', '7mm t6 torx shouldered screw']\n",
      "\n",
      "tri-point screw ['5.5mm tri-point screw', '6.5mm tri-point screw', '1.1mm y00 tri-point screw', '5.6mm tri-point screw', '5mm tri-point screw', '13mm tri-point screw', '7.4mm tri-point screw', '7.5mm 7.2mm tri-point screw', '13.5mm tri-point screw', '7.4mm y0 tri-point screw']\n",
      "\n",
      "pentalobe screw ['5-point pentalobe screw', '2.3mm pentalobe screw', '2.6mm 5-point pentalobe screw', '3mm p5 pentalobe screw', '2.9mm p5 pentalobe screw', '1.8mm p5 pentalobe screw', '2.5mm 5-point pentalobe screw', '25mm 5-point pentalobe screw', 'p5 pentalobe screw', '9mm 5-point pentalobe screw', '8mm 5-point pentalobe screw', '2.3mm p5 pentalobe screw', '3mm pentalobe screw', '6.1mm p5 pentalobe screw', '26mm p5 pentalobe screw', '9mm p5 pentalobe screw', 'five-point pentalobe screw']\n",
      "\n",
      "long screw ['7.7mm long screw', '18mm long screw', '6.8mm long screw']\n",
      "\n",
      "t5 screw ['mm t5 screw', '2.7mm t5 screw', '3.5mm t5 screw', '2.4mm t5 screw', '3.4mm t5 screw', '2.6mm t5 screw']\n",
      "\n",
      "standoff screw ['4.89mm t8 torx standoff screw', '3.5mm t9 torx standoff screw']\n",
      "\n",
      "cable cover ['battery cable cover', 'rubber microphone cable cover']\n",
      "\n",
      "connector cover ['right connector cover', 'left connector cover', 'battery connector cover']\n",
      "\n",
      "plastic cover ['small plastic cover', 'thin plastic cover']\n",
      "\n",
      "hinge cover ['rubber hinge cover', 'aluminum hinge cover']\n",
      "\n",
      "rubber cover ['left rubber cover', 'right rubber cover']\n",
      "\n",
      "sensor board ['ambient light sensor board', 'left ambient light sensor board', 'right ambient light sensor board']\n",
      "\n",
      "emi finger ['silver emi finger', 'small emi finger']\n",
      "\n",
      "speaker assembly ['rear speaker assembly', 'right speaker assembly', 'left speaker assembly']\n",
      "\n",
      "board assembly ['entire logic board assembly', 'logic board assembly']\n",
      "\n",
      "sensor assembly ['ir sensor assembly', 'sleep sensor assembly']\n",
      "\n",
      "ribbon cable ['audio board ribbon cable', 'green silver ribbon cable', 'keyboard backlight ribbon cable', 'trackpad ribbon cable', 'fan ribbon cable', 'airport bluetooth ribbon cable', 'volume button ribbon cable', 'right fan ribbon cable', 'microphone ribbon cable', 'microphone assembly ribbon cable', 'keyboard ribbon cable', 'orange ribbon cable']\n",
      "\n",
      "data cable ['io board data cable', 'battery board data cable', 'display data cable', 'keyboard data cable']\n",
      "\n",
      "board cable ['camera board cable', 'io board cable', 'bluetooth retainer assembly board cable', 'airport retainer assembly board cable']\n",
      "\n",
      "speaker cable ['right speaker cable', 'left speaker cable']\n",
      "\n",
      "metal bracket ['small metal bracket', 'silver metal bracket']\n",
      "\n",
      "retaining bracket ['lcd retaining bracket', 'gray metal retaining bracket', 'small plastic retaining bracket', 'small silver metal retaining bracket', 'airport card retaining bracket', 'metal harddrive retaining bracket']\n",
      "\n",
      "cable bracket ['lvds cable bracket', 'io board cable bracket', 'camera cable bracket', 'display data cable bracket']\n",
      "\n",
      "steel bracket ['small steel bracket', 'small rectangular steel bracket']\n",
      "\n",
      "end cap ['plastic end cap', 'gray plastic end cap']\n",
      "\n",
      "yellow tape ['strip yellow tape', 'small yellow tape']\n",
      "\n",
      "black tape ['small black tape', 'small strip black tape']\n",
      "\n",
      "display bezel ['rear display bezel', 'front display bezel']\n",
      "\n",
      "cable connector ['io board cable connector', 'trackpad ribbon cable connector', 'harddrive cable connector', 'ssd cable connector', 'magsafe cable connector', 'opticaldrive cable connector', 'battery indicator cable connector', 'rear speaker cable connector', 'headphone jack cable connector']\n",
      "\n",
      "board connector ['dc-in board connector', 'io board connector']\n",
      "\n",
      "antenna holder ['gray bluetooth antenna holder', 'black bluetooth antenna holder']\n",
      "\n",
      "plastic spacer ['black plastic spacer', 'small black plastic spacer']\n",
      "\n",
      "clutch hinge ['left clutch hinge', 'right clutch hinge', 'entire clutch hinge']\n",
      "\n",
      "latch magnet ['left display latch magnet', 'display latch magnet']\n",
      "\n",
      "airport bluetooth ['cable airport bluetooth', 'board airport bluetooth', 'bracket airport bluetooth', 'card airport bluetooth', 'connector airport bluetooth', 'ribbon cable airport bluetooth', 'assembly airport bluetooth']\n",
      "\n",
      "cable retainer ['camera cable retainer', 'display data cable retainer']\n",
      "\n",
      "speaker subwoofer ['right assembly speaker subwoofer', 'right cable speaker subwoofer']\n",
      "\n",
      "fan duct ['right fan duct', 'left fan duct']\n",
      "\n"
     ]
    }
   ],
   "source": [
    "lst = save_dic(partclass_hierarchy, 'macpart_hi')\n",
    "for key in lst:\n",
    "    print(key, lst[key])\n",
    "    print()"
   ]
  },
  {
   "cell_type": "code",
   "execution_count": 33,
   "metadata": {},
   "outputs": [],
   "source": [
    "check_dublicates(lst)"
   ]
  },
  {
   "cell_type": "code",
   "execution_count": 176,
   "metadata": {},
   "outputs": [],
   "source": [
    "def clean_levels(tclass_hierarchy, root):\n",
    "    keys = list(tclass_hierarchy.keys())\n",
    "    for tool in list(tclass_hierarchy.keys()):\n",
    "        if len(tclass_hierarchy[tool])<2:\n",
    "            if tclass_hierarchy[tool][0] in tclass_hierarchy.keys():\n",
    "                if tool in tclass_hierarchy[root]: tclass_hierarchy[root].remove(tool)\n",
    "                tclass_hierarchy[root].append(tclass_hierarchy[tool][0])\n",
    "                del tclass_hierarchy[tool]\n",
    "                keys.remove(tool)\n",
    "            else:\n",
    "                for key in keys:\n",
    "                    if tool in tclass_hierarchy[key] and tclass_hierarchy[tool]:\n",
    "                        tclass_hierarchy[key].remove(tool)\n",
    "                        tclass_hierarchy[key].append((' '.join(tclass_hierarchy[tool][0].split()[:-1]) + ' ' + tool).strip())\n",
    "                        del tclass_hierarchy[tool]\n",
    "                        keys.remove(tool)\n",
    "    return tclass_hierarchy"
   ]
  },
  {
   "cell_type": "code",
   "execution_count": 177,
   "metadata": {},
   "outputs": [],
   "source": [
    "allings = [i for j in ings for k in j for i in k]\n",
    "ingsscounts = Counter(allings)"
   ]
  },
  {
   "cell_type": "code",
   "execution_count": 178,
   "metadata": {},
   "outputs": [],
   "source": [
    "ingsclass_hierarchy = hir_create(ingsscounts)"
   ]
  },
  {
   "cell_type": "code",
   "execution_count": 179,
   "metadata": {},
   "outputs": [],
   "source": [
    "ingsclass_hierarchy = remove_ones(ingsclass_hierarchy, root=\"<ROOT>\")"
   ]
  },
  {
   "cell_type": "code",
   "execution_count": 180,
   "metadata": {},
   "outputs": [],
   "source": [
    "ingsclass_hierarchy = next_level(ingsclass_hierarchy, root=\"<ROOT>\")"
   ]
  },
  {
   "cell_type": "code",
   "execution_count": 183,
   "metadata": {},
   "outputs": [],
   "source": [
    "ingsclass_hierarchy = clean_levels(ingsclass_hierarchy, root=\"<ROOT>\")"
   ]
  },
  {
   "cell_type": "code",
   "execution_count": 184,
   "metadata": {},
   "outputs": [
    {
     "name": "stdout",
     "output_type": "stream",
     "text": [
      "<ROOT> ['water', 'salt', 'garlic', 'honey', 'scallion', 'butter', 'ketchup', 'bacon', 'egg', 'paprika', 'zucchini', 'avocado', 'milk', 'onion', 'quinoa', 'carrot', 'pecan', 'lemon', 'orange', 'cracker', 'bread', 'cauliflower', 'radish', 'lime', 'microgreen', 'spaghetti', 'ziti', 'cornstarch', 'sugar', 'flour', 'eggplant', 'pinenut', 'shallot', 'cranberry', 'tomato', 'worchestershire', 'banana', 'cilantro', \"za'atar\", 'mayonnaise', 'naan', 'garlic clove', 'oil', 'crushed red chily', 'broccoli floret', 'spray', 'breakfast sausage link', 'parsley', 'pepper', 'sauce', 'ground coriander', 'bean', 'ground cumin', 'dried oregano', 'tortilla', 'vinegar', 'seed', 'shredded mexican cheese blend', 'steak', 'cream', 'powder', 'peeled deveined shrimp', 'cheese', 'italian seasoning', 'panko breadcrumb', 'mustard', 'large egg', 'plain greek yogurt', 'leaf', 'fennel bulb', 'rib', 'broth', 'thyme', 'pitted kalamata olife', 'feta cheese crumble', 'semi-sweet chocolate morsel', 'shredded coconut', 'boneless skinless chicken breast', 'bacon slice', 'vanilla extract', 'potato', 'spiral-sliced bone-in ham', 'ground cinnamon', 'mushroom', 'rosemary', 'tomato paste', 'italian bread', 'chuck roast', 'chicken leg', 'chocolate', 'sea salt flake', 'maple syrup', 'salsa verde', 'rice', 'ground turkey', 'baking soda', 'granny smith apple', 'fresh herb', 'pumpkin purée', 'fresh ginger', 'warm water', 'yeast', 'juice', 'chicken wing', 'refrigerated crescent roll', 'brussels sprout', 'dried cranberry', 'dry sherry', 'beef tenderloin', 'baby spinach', 'ground flaxseed', 'cooked chicken', 'ground allspice', 'ground nutmeg', 'quick-cooking oat', 'lime wedge', 'white chocolate bar', 'large egg white', 'sage', 'italian sausage', 'garam masala', 'chipotle in adobo', 'half half', 'egg yolk', 'fresh mint', 'thai chile', 'frozen riced cauliflower', 'lemon zest', 'pie crust', 'chicken thigh', 'ground beef', 'firm tofu', 'chocolate chip']\n",
      "\n",
      "carrot ['None carrot', 'medium carrot', 'baby carrot', 'large carrot']\n",
      "\n",
      "oil ['canola oil', 'sesame oil', 'coconut oil', 'vegetable oil', 'olive oil']\n",
      "\n",
      "onion ['yellow onion', 'red onion', 'None onion', 'green onion']\n",
      "\n",
      "spray ['oil spray', 'cooking spray']\n",
      "\n",
      "butter ['salted butter', 'unsalted butter', 'None butter', 'vegan butter']\n",
      "\n",
      "parsley ['italian parsley', 'fresh parsley']\n",
      "\n",
      "pepper ['cayenne pepper', 'bell pepper', 'freshly black pepper', 'black pepper', 'jalapeño pepper']\n",
      "\n",
      "sauce ['caramel sauce', 'sriracha sauce', 'barbecue sauce', 'soy sauce', 'hot sauce', 'buffalo sauce', 'chili sauce', 'enchilada sauce', 'marinara sauce']\n",
      "\n",
      "bean ['black bean', 'cannellini bean']\n",
      "\n",
      "tortilla ['corn tortilla', 'flour tortilla']\n",
      "\n",
      "vinegar ['wine vinegar', 'rice vinegar', 'cider vinegar', 'balsamic vinegar']\n",
      "\n",
      "sugar ['None sugar', 'powdered sugar', 'granulated sugar', 'brown sugar']\n",
      "\n",
      "seed ['cumin seed', 'sesame seed', 'pumpkin seed']\n",
      "\n",
      "flour ['all-purpose flour', 'almond flour', 'None flour']\n",
      "\n",
      "cilantro ['fresh cilantro', 'chopped cilantro', 'None cilantro']\n",
      "\n",
      "steak ['new strip steak', 'flank steak']\n",
      "\n",
      "cream ['ice cream', 'sour cream', 'heavy cream']\n",
      "\n",
      "powder ['onion powder', 'garlic powder', 'baking powder', 'chili powder']\n",
      "\n",
      "cheese ['ricotta cheese', 'cheddar cheese', 'goat cheese', 'cream cheese', 'mozzarella cheese', 'parmesan cheese']\n",
      "\n",
      "milk ['whole milk', 'condensed milk', 'None milk']\n",
      "\n",
      "mustard ['ground mustard', 'dijon mustard']\n",
      "\n",
      "salt ['garlic salt', 'sea salt', 'None salt']\n",
      "\n",
      "leaf ['basil leaf', 'thyme leaf', 'cilantro leaf', 'spinach leaf', 'bay leaf', 'fenugreek leaf']\n",
      "\n",
      "rib ['celery rib', 'prime rib']\n",
      "\n",
      "broth ['chicken broth', 'beef broth']\n",
      "\n",
      "thyme ['dried thyme', 'fresh thyme']\n",
      "\n",
      "potato ['baby potato', 'sweet potato', 'gold potato', 'russet potato']\n",
      "\n",
      "mushroom ['cremini mushroom', 'sliced mushroom']\n",
      "\n",
      "rosemary ['dried rosemary', 'fresh rosemary']\n",
      "\n",
      "tomato ['cherry tomato', 'None tomato', 'diced tomato']\n",
      "\n",
      "chocolate ['bittersweet chocolate', 'white chocolate']\n",
      "\n",
      "rice ['medium-grain rice', 'basmati rice']\n",
      "\n",
      "yeast ['dry yeast', 'nutritional yeast']\n",
      "\n",
      "juice ['lemon juice', 'lime juice']\n",
      "\n",
      "sage ['dried sage', 'fresh sage']\n",
      "\n",
      "bell pepper ['red bell pepper', 'yellow bell pepper', 'green bell pepper']\n",
      "\n",
      "soy sauce ['reduced-sodium soy sauce', 'tamari soy sauce']\n",
      "\n",
      "sesame seed ['black sesame seed', 'toasted sesame seed']\n",
      "\n",
      "ground beef ['lean ground beef', '85% lean ground beef']\n",
      "\n",
      "parmesan cheese ['shredded parmesan cheese', 'grated parmesan cheese', 'shaved parmesan cheese']\n",
      "\n",
      "pie crust ['unbaked pie crust', 'frozen pie crust']\n",
      "\n",
      "chicken thigh ['bone-in, skin-on chicken thigh', 'boneless skinless chicken thigh']\n",
      "\n"
     ]
    }
   ],
   "source": [
    "ingsclass_hierarchy = save_dic(ingsclass_hierarchy, 'ings_hi', addparent = False)\n",
    "for key in ingsclass_hierarchy:\n",
    "    print(key, ingsclass_hierarchy[key])\n",
    "    print()"
   ]
  },
  {
   "cell_type": "code",
   "execution_count": 185,
   "metadata": {},
   "outputs": [],
   "source": [
    "allyamtools = [i for j in yamtools for k in j for i in k]\n",
    "yamtoolscounts = Counter(allyamtools)"
   ]
  },
  {
   "cell_type": "code",
   "execution_count": 186,
   "metadata": {},
   "outputs": [],
   "source": [
    "yamtoolsclass_hierarchy = hir_create(yamtoolscounts)"
   ]
  },
  {
   "cell_type": "code",
   "execution_count": 187,
   "metadata": {},
   "outputs": [],
   "source": [
    "yamtoolsclass_hierarchy = remove_ones(yamtoolsclass_hierarchy, root=\"<ROOT>\")"
   ]
  },
  {
   "cell_type": "code",
   "execution_count": 188,
   "metadata": {},
   "outputs": [],
   "source": [
    "yamtoolsclass_hierarchy = next_level(yamtoolsclass_hierarchy, root=\"<ROOT>\")"
   ]
  },
  {
   "cell_type": "code",
   "execution_count": 191,
   "metadata": {},
   "outputs": [],
   "source": [
    "yamtoolsclass_hierarchy = clean_levels(yamtoolsclass_hierarchy, root=\"<ROOT>\")"
   ]
  },
  {
   "cell_type": "code",
   "execution_count": 192,
   "metadata": {},
   "outputs": [
    {
     "name": "stdout",
     "output_type": "stream",
     "text": [
      "<ROOT> ['lid', 'spoon', 'oven', 'skillet', 'stove', 'toothpick', 'knife', 'spatula', 'toothpicks', 'bowl', 'fork', 'plate', 'platter', 'sifter', 'tongs', 'whisk', 'plates', 'blender', 'strainer', 'peeler', 'refrigerator', 'mallet', 'mixer', 'colander', 'wok', 'spoons', 'microwave', 'saucepan', 'ramekin', 'scissors', 'sieve', 'ladle', 'bowls', 'reamer', 'freezer', 'grater', 'tong', 'measuring cups', 'cutting board', 'measuring spoons', 'pan', 'dish', 'paper towels', 'oven mitts', 'kitchen scale', 'baking sheets', 'silicone baking mat', 'paper', 'rack', 'tooth pick', 'sheet pans', 'bags', 'baking sheet', 'aluminum foil', 'thermometer', 'server', 'plastic container', 'plastic wrap', 'pastry brush', 'liners', 'decorating tips', 'cooling racks', 'cooker', 'rolling pin', 'attachment', 'can opener', 'potato masher', 'large pot', 'stand', 'piping bag', 'serving plates', 'immersion blender', 'towel', 'pie weights', 'spice grinder', 'food processor', 'bench scraper', 'turkey baster', 'zester grater', 'sticks', 'pizza stone', 'double boiler', 'pizza paddle', 'oven mitt', 'measuring cup']\n",
      "\n",
      "saucepan ['None saucepan', 'medium saucepan', 'small saucepan', 'large saucepan']\n",
      "\n",
      "knife ['pairing knife', 'butter knife', 'sharp knife', 'None knife', 'chef’s knife', 'serrated knife']\n",
      "\n",
      "pan ['sauté pan', 'sheet pan', 'square pan', 'form pan', 'springform pan', 'pie pan', 'saute pan', 'cake pan', 'grill pan', 'muffin pan', 'frying pan', 'roasting pan', 'sauce pan', 'roll pan', 'bundt pan', 'loaf pan', 'non frying pan']\n",
      "\n",
      "bowls ['small bowls', 'None bowls', 'mixing bowls', 'microwave-safe bowls', 'serving bowls']\n",
      "\n",
      "dish ['serving dish', 'baking dish', 'casserole dish']\n",
      "\n",
      "spatula ['offset spatula', 'None spatula', 'rubber spatula']\n",
      "\n",
      "plate ['large plate', 'flat plate', 'pie plate', 'None plate', 'serving plate']\n",
      "\n",
      "spoon ['measuring spoon', 'slotted spoon', 'None spoon', 'serving spoon', 'wooden spoon', 'large spoon']\n",
      "\n",
      "paper ['parchment paper', 'waxed paper']\n",
      "\n",
      "rack ['cooling rack', 'wire rack', 'roasting rack']\n",
      "\n",
      "bowl ['large bowl', 'mixing bowl', 'small bowl', 'serving bowl', 'None bowl']\n",
      "\n",
      "skillet ['nonstick skillet', 'extra-large skillet', 'None skillet', 'cast-iron skillet', 'ovenproof skillet', 'bottomed skillet', 'large skillet']\n",
      "\n",
      "bags ['zip-top bags', 'decorating bags']\n",
      "\n",
      "thermometer ['meat thermometer', 'kitchen thermometer']\n",
      "\n",
      "server ['pie server', 'cake server']\n",
      "\n",
      "liners ['muffin liners', 'cupcake liners']\n",
      "\n",
      "cooker ['rice cooker', 'slow cooker']\n",
      "\n",
      "oven ['Dutch oven', 'dutch oven', 'None oven']\n",
      "\n",
      "mixer ['None mixer', 'hand mixer', 'stand mixer']\n",
      "\n",
      "attachment ['whisk attachment', 'paddle attachment']\n",
      "\n",
      "stand ['cake stand', 'pop stand']\n",
      "\n",
      "towel ['paper towel', 'kitchen towel']\n",
      "\n",
      "sticks ['lollipop sticks', 'pop sticks']\n",
      "\n",
      "mixing bowls ['medium mixing bowls', 'large mixing bowls']\n",
      "\n",
      "baking dish ['square baking dish', 'shallow baking dish', 'glass baking dish', '9x13-inch baking dish']\n",
      "\n",
      "mixing bowl ['large mixing bowl', 'small mixing bowl', 'medium mixing bowl']\n",
      "\n",
      "zip-top bags ['gallon-sized zip-top bags', 'large zip-top bags']\n",
      "\n"
     ]
    }
   ],
   "source": [
    "yamtoolsclass_hierarchy = save_dic(yamtoolsclass_hierarchy, 'yamtools_hi', addparent=False)\n",
    "for key in yamtoolsclass_hierarchy:\n",
    "    print(key, yamtoolsclass_hierarchy[key])\n",
    "    print()"
   ]
  },
  {
   "cell_type": "code",
   "execution_count": null,
   "metadata": {},
   "outputs": [],
   "source": []
  }
 ],
 "metadata": {
  "kernelspec": {
   "display_name": "Python 3",
   "language": "python",
   "name": "python3"
  },
  "language_info": {
   "codemirror_mode": {
    "name": "ipython",
    "version": 3
   },
   "file_extension": ".py",
   "mimetype": "text/x-python",
   "name": "python",
   "nbconvert_exporter": "python",
   "pygments_lexer": "ipython3",
   "version": "3.6.7"
  }
 },
 "nbformat": 4,
 "nbformat_minor": 2
}
