{
 "cells": [
  {
   "cell_type": "code",
   "execution_count": 1,
   "metadata": {},
   "outputs": [],
   "source": [
    "import pickle as pk\n",
    "def save_obj(obj, name):\n",
    "    \"\"\"\n",
    "    Saving the pickle object\n",
    "    \"\"\"\n",
    "    with open(name + '.pkl', 'wb') as file:\n",
    "        pk.dump(obj, file, pk.HIGHEST_PROTOCOL)\n",
    "\n",
    "\n",
    "def load_obj(name):\n",
    "    \"\"\"\n",
    "    loading the pickle object\n",
    "    \"\"\"\n",
    "    with open(name + '.pkl', 'rb') as file:\n",
    "        return pk.load(file)"
   ]
  },
  {
   "cell_type": "code",
   "execution_count": 2,
   "metadata": {},
   "outputs": [],
   "source": [
    "from sklearn import svm\n",
    "from sklearn.decomposition import TruncatedSVD\n",
    "from sklearn.metrics import classification_report\n",
    "from sklearn.model_selection import train_test_split\n",
    "from sklearn.pipeline import make_pipeline\n",
    "\n",
    "from sklearn_hierarchical_classification.classifier import HierarchicalClassifier\n",
    "from sklearn_hierarchical_classification.constants import ROOT\n",
    "from sklearn_hierarchical_classification.metrics import h_fbeta_score, multi_labeled\n",
    "import numpy as np"
   ]
  },
  {
   "cell_type": "code",
   "execution_count": 64,
   "metadata": {},
   "outputs": [],
   "source": [
    "from sklearn.multiclass import OneVsRestClassifier\n",
    "from sklearn.svm import LinearSVC"
   ]
  },
  {
   "cell_type": "code",
   "execution_count": 3,
   "metadata": {},
   "outputs": [],
   "source": [
    "from sklearn.preprocessing import MultiLabelBinarizer\n",
    "mlb = MultiLabelBinarizer()"
   ]
  },
  {
   "cell_type": "code",
   "execution_count": 4,
   "metadata": {},
   "outputs": [],
   "source": [
    "class_hierarchy = load_obj('svmdata/mactool_hi')"
   ]
  },
  {
   "cell_type": "code",
   "execution_count": 80,
   "metadata": {},
   "outputs": [
    {
     "data": {
      "text/plain": [
       "{'<ROOT>': ['tweezers',\n",
       "  'supply',\n",
       "  'suction handle',\n",
       "  'pin',\n",
       "  'scissors',\n",
       "  'cards',\n",
       "  'multimeter',\n",
       "  'arcticlean',\n",
       "  'diamond impregnated files',\n",
       "  'iopener',\n",
       "  'paste',\n",
       "  'compressed air',\n",
       "  'spudger',\n",
       "  'cloth',\n",
       "  'pick',\n",
       "  'microfiber cleaning cloth',\n",
       "  'usb cable',\n",
       "  'utility scissors',\n",
       "  'striper',\n",
       "  'cable',\n",
       "  'wipes',\n",
       "  'microscope',\n",
       "  'handle',\n",
       "  'pliers',\n",
       "  'screwdriver',\n",
       "  'remover',\n",
       "  'programmer',\n",
       "  'adhesive remover',\n",
       "  'disposable gloves',\n",
       "  'wire striper',\n",
       "  'ipad battery isolation pick',\n",
       "  'hair dryer',\n",
       "  'arctic silver arcticlean',\n",
       "  'awg28 wire',\n",
       "  'probe_and_pickset',\n",
       "  'wire',\n",
       "  'isopropyl alcohol wipes',\n",
       "  'alcohol',\n",
       "  'desktop power supply',\n",
       "  'plastic cards',\n",
       "  'gloves',\n",
       "  'cleaner',\n",
       "  'pair',\n",
       "  'clip',\n",
       "  'dryer',\n",
       "  'arctic silver thermal paste',\n",
       "  'ultra sonic cleaner',\n",
       "  'coin',\n",
       "  'gun',\n",
       "  '99 isopropyl alcohol',\n",
       "  'stereo microscope',\n",
       "  'opening tool',\n",
       "  'heavy-duty suction cups pair',\n",
       "  'paperclip',\n",
       "  'ftdi programmer',\n",
       "  'needlenose pliers',\n",
       "  'binder clip',\n",
       "  'drill',\n",
       "  'heat gun',\n",
       "  'air',\n",
       "  'tool',\n",
       "  'files'],\n",
       " 'screwdriver': ['1.5mm hex',\n",
       "  'phillips',\n",
       "  '2.5mm flathead',\n",
       "  'hex',\n",
       "  'pentalobe',\n",
       "  'tri-point',\n",
       "  'torx',\n",
       "  'flathead'],\n",
       " 'knife': ['precision utility', 'utility', 'tech', 'x-acto'],\n",
       " 'torx': ['t4', 't10', 't3', 't6', 't8', 't5', 't9'],\n",
       " 'phillips': ['ph00', 'ph000', 'ph0'],\n",
       " 'pentalobe': ['p6', 'p5'],\n",
       " 'tri-point': ['y00', 'y1', 'y0'],\n",
       " 'nut': ['4mm', '5mm']}"
      ]
     },
     "execution_count": 80,
     "metadata": {},
     "output_type": "execute_result"
    }
   ],
   "source": [
    "class_hierarchy"
   ]
  },
  {
   "cell_type": "code",
   "execution_count": 59,
   "metadata": {},
   "outputs": [],
   "source": [
    "X_train = np.load('svmdata/mactools_xtrain.npy')\n",
    "y_train = np.load('svmdata/mactools_ytrain.pkl')\n",
    "X_test = np.load('svmdata/mactools_xtest.npy')\n",
    "y_test = np.load('svmdata/mactools_ytest.pkl')"
   ]
  },
  {
   "cell_type": "code",
   "execution_count": 60,
   "metadata": {},
   "outputs": [],
   "source": [
    "y_trainb=mlb.fit_transform(y_train)\n",
    "y_trainb = mlb.transform(y_train)"
   ]
  },
  {
   "cell_type": "code",
   "execution_count": 9,
   "metadata": {},
   "outputs": [],
   "source": [
    "y_strain = [y[0] for y in y_train]\n",
    "y_stest = [y[0] for y in y_test]"
   ]
  },
  {
   "cell_type": "code",
   "execution_count": 65,
   "metadata": {},
   "outputs": [],
   "source": [
    "bclf = OneVsRestClassifier(LinearSVC())"
   ]
  },
  {
   "cell_type": "code",
   "execution_count": 77,
   "metadata": {},
   "outputs": [],
   "source": [
    "clf = HierarchicalClassifier(\n",
    "    base_estimator=bclf,\n",
    "    class_hierarchy=class_hierarchy,\n",
    "    algorithm=\"lcn\", training_strategy=\"siblings\",\n",
    "    feature_extraction=\"raw\",\n",
    "    mlb=mlb,\n",
    "    use_decision_function=True,\n",
    "    mlb_prediction_threshold=0.2\n",
    ")"
   ]
  },
  {
   "cell_type": "code",
   "execution_count": 78,
   "metadata": {},
   "outputs": [
    {
     "data": {
      "text/plain": [
       "HierarchicalClassifier(algorithm='lcn',\n",
       "                       base_estimator=OneVsRestClassifier(estimator=LinearSVC(C=1.0,\n",
       "                                                                              class_weight=None,\n",
       "                                                                              dual=True,\n",
       "                                                                              fit_intercept=True,\n",
       "                                                                              intercept_scaling=1,\n",
       "                                                                              loss='squared_hinge',\n",
       "                                                                              max_iter=1000,\n",
       "                                                                              multi_class='ovr',\n",
       "                                                                              penalty='l2',\n",
       "                                                                              random_state=None,\n",
       "                                                                              tol=0.0001,\n",
       "                                                                              verbose=0),\n",
       "                                                          n_jobs=None),\n",
       "                       class_hierarchy={'<ROOT>': ['tweezers', 'supply',\n",
       "                                                   'suction handle', '...\n",
       "                                                        'tri-point', 'torx',\n",
       "                                                        'flathead'],\n",
       "                                        'torx': ['t4', 't10', 't3', 't6', 't8',\n",
       "                                                 't5', 't9'],\n",
       "                                        'tri-point': ['y00', 'y1', 'y0']},\n",
       "                       feature_extraction='raw',\n",
       "                       mlb=MultiLabelBinarizer(classes=None,\n",
       "                                               sparse_output=False),\n",
       "                       mlb_prediction_threshold=0.2, prediction_depth='mlnp',\n",
       "                       progress_wrapper=None, root='<ROOT>',\n",
       "                       stopping_criteria=None, training_strategy='siblings',\n",
       "                       use_decision_function=True)"
      ]
     },
     "execution_count": 78,
     "metadata": {},
     "output_type": "execute_result"
    }
   ],
   "source": [
    "clf.fit(X_train, y_trainb[:,:])"
   ]
  },
  {
   "cell_type": "code",
   "execution_count": 74,
   "metadata": {},
   "outputs": [
    {
     "data": {
      "text/plain": [
       "array([[1.34110451e-06, 3.61029804e-02, 1.29221976e-02, ...,\n",
       "        8.34465027e-07, 5.58912754e-04, 5.70648909e-03],\n",
       "       [1.18911266e-05, 3.44088316e-01, 4.05222178e-03, ...,\n",
       "        1.78813934e-06, 5.09381294e-04, 2.35282183e-02],\n",
       "       [6.94394112e-06, 5.01162708e-01, 1.41301751e-02, ...,\n",
       "        3.09944153e-06, 1.95711851e-04, 4.92514074e-02],\n",
       "       ...,\n",
       "       [1.40070915e-06, 3.61030102e-02, 1.29221976e-02, ...,\n",
       "        8.34465027e-07, 5.58882952e-04, 5.70648909e-03],\n",
       "       [1.19507313e-05, 3.44088316e-01, 4.05222178e-03, ...,\n",
       "        1.75833702e-06, 5.09381294e-04, 2.35282481e-02],\n",
       "       [6.94394112e-06, 5.01162708e-01, 1.41301751e-02, ...,\n",
       "        3.12924385e-06, 1.95711851e-04, 4.92514074e-02]])"
      ]
     },
     "execution_count": 74,
     "metadata": {},
     "output_type": "execute_result"
    }
   ],
   "source": [
    "X_test"
   ]
  },
  {
   "cell_type": "code",
   "execution_count": 79,
   "metadata": {},
   "outputs": [
    {
     "ename": "IndexError",
     "evalue": "only integers, slices (`:`), ellipsis (`...`), numpy.newaxis (`None`) and integer or boolean arrays are valid indices",
     "output_type": "error",
     "traceback": [
      "\u001b[0;31m---------------------------------------------------------------------------\u001b[0m",
      "\u001b[0;31mIndexError\u001b[0m                                Traceback (most recent call last)",
      "\u001b[0;32m<ipython-input-79-9bfb7c6bffa8>\u001b[0m in \u001b[0;36m<module>\u001b[0;34m\u001b[0m\n\u001b[0;32m----> 1\u001b[0;31m \u001b[0mpreds\u001b[0m \u001b[0;34m=\u001b[0m \u001b[0mclf\u001b[0m\u001b[0;34m.\u001b[0m\u001b[0mpredict_proba\u001b[0m\u001b[0;34m(\u001b[0m\u001b[0mX_test\u001b[0m\u001b[0;34m)\u001b[0m\u001b[0;34m\u001b[0m\u001b[0;34m\u001b[0m\u001b[0m\n\u001b[0m\u001b[1;32m      2\u001b[0m \u001b[0mpreds\u001b[0m\u001b[0;34m\u001b[0m\u001b[0;34m\u001b[0m\u001b[0m\n",
      "\u001b[0;32m~/.local/lib/python3.6/site-packages/sklearn_hierarchical_classification-1.3.2-py3.6.egg/sklearn_hierarchical_classification/classifier.py\u001b[0m in \u001b[0;36mpredict_proba\u001b[0;34m(self, X)\u001b[0m\n\u001b[1;32m    317\u001b[0m             return np.array([\n\u001b[1;32m    318\u001b[0m                 \u001b[0m_classify\u001b[0m\u001b[0;34m(\u001b[0m\u001b[0mX\u001b[0m\u001b[0;34m[\u001b[0m\u001b[0mi\u001b[0m\u001b[0;34m]\u001b[0m\u001b[0;34m)\u001b[0m\u001b[0;34m\u001b[0m\u001b[0;34m\u001b[0m\u001b[0m\n\u001b[0;32m--> 319\u001b[0;31m                 \u001b[0;32mfor\u001b[0m \u001b[0mi\u001b[0m \u001b[0;32min\u001b[0m \u001b[0mrange\u001b[0m\u001b[0;34m(\u001b[0m\u001b[0mlen\u001b[0m\u001b[0;34m(\u001b[0m\u001b[0mX\u001b[0m\u001b[0;34m)\u001b[0m\u001b[0;34m)\u001b[0m\u001b[0;34m\u001b[0m\u001b[0;34m\u001b[0m\u001b[0m\n\u001b[0m\u001b[1;32m    320\u001b[0m             ])\n\u001b[1;32m    321\u001b[0m         \u001b[0;32melse\u001b[0m\u001b[0;34m:\u001b[0m\u001b[0;34m\u001b[0m\u001b[0;34m\u001b[0m\u001b[0m\n",
      "\u001b[0;32m~/.local/lib/python3.6/site-packages/sklearn_hierarchical_classification-1.3.2-py3.6.egg/sklearn_hierarchical_classification/classifier.py\u001b[0m in \u001b[0;36m<listcomp>\u001b[0;34m(.0)\u001b[0m\n\u001b[1;32m    317\u001b[0m             return np.array([\n\u001b[1;32m    318\u001b[0m                 \u001b[0m_classify\u001b[0m\u001b[0;34m(\u001b[0m\u001b[0mX\u001b[0m\u001b[0;34m[\u001b[0m\u001b[0mi\u001b[0m\u001b[0;34m]\u001b[0m\u001b[0;34m)\u001b[0m\u001b[0;34m\u001b[0m\u001b[0;34m\u001b[0m\u001b[0m\n\u001b[0;32m--> 319\u001b[0;31m                 \u001b[0;32mfor\u001b[0m \u001b[0mi\u001b[0m \u001b[0;32min\u001b[0m \u001b[0mrange\u001b[0m\u001b[0;34m(\u001b[0m\u001b[0mlen\u001b[0m\u001b[0;34m(\u001b[0m\u001b[0mX\u001b[0m\u001b[0;34m)\u001b[0m\u001b[0;34m)\u001b[0m\u001b[0;34m\u001b[0m\u001b[0;34m\u001b[0m\u001b[0m\n\u001b[0m\u001b[1;32m    320\u001b[0m             ])\n\u001b[1;32m    321\u001b[0m         \u001b[0;32melse\u001b[0m\u001b[0;34m:\u001b[0m\u001b[0;34m\u001b[0m\u001b[0;34m\u001b[0m\u001b[0m\n",
      "\u001b[0;32m~/.local/lib/python3.6/site-packages/sklearn_hierarchical_classification-1.3.2-py3.6.egg/sklearn_hierarchical_classification/classifier.py\u001b[0m in \u001b[0;36m_classify\u001b[0;34m(x)\u001b[0m\n\u001b[1;32m    311\u001b[0m \u001b[0;34m\u001b[0m\u001b[0m\n\u001b[1;32m    312\u001b[0m         \u001b[0;32mdef\u001b[0m \u001b[0m_classify\u001b[0m\u001b[0;34m(\u001b[0m\u001b[0mx\u001b[0m\u001b[0;34m)\u001b[0m\u001b[0;34m:\u001b[0m\u001b[0;34m\u001b[0m\u001b[0;34m\u001b[0m\u001b[0m\n\u001b[0;32m--> 313\u001b[0;31m             \u001b[0m_\u001b[0m\u001b[0;34m,\u001b[0m \u001b[0mscores\u001b[0m \u001b[0;34m=\u001b[0m \u001b[0mself\u001b[0m\u001b[0;34m.\u001b[0m\u001b[0m_recursive_predict\u001b[0m\u001b[0;34m(\u001b[0m\u001b[0mx\u001b[0m\u001b[0;34m,\u001b[0m \u001b[0mroot\u001b[0m\u001b[0;34m=\u001b[0m\u001b[0mself\u001b[0m\u001b[0;34m.\u001b[0m\u001b[0mroot\u001b[0m\u001b[0;34m)\u001b[0m\u001b[0;34m\u001b[0m\u001b[0;34m\u001b[0m\u001b[0m\n\u001b[0m\u001b[1;32m    314\u001b[0m             \u001b[0;32mreturn\u001b[0m \u001b[0mscores\u001b[0m\u001b[0;34m\u001b[0m\u001b[0;34m\u001b[0m\u001b[0m\n\u001b[1;32m    315\u001b[0m \u001b[0;34m\u001b[0m\u001b[0m\n",
      "\u001b[0;32m~/.local/lib/python3.6/site-packages/sklearn_hierarchical_classification-1.3.2-py3.6.egg/sklearn_hierarchical_classification/classifier.py\u001b[0m in \u001b[0;36m_recursive_predict\u001b[0;34m(self, x, root)\u001b[0m\n\u001b[1;32m    608\u001b[0m                     \u001b[0;31m# when we have a multi-label binarizer\u001b[0m\u001b[0;34m\u001b[0m\u001b[0;34m\u001b[0m\u001b[0;34m\u001b[0m\u001b[0m\n\u001b[1;32m    609\u001b[0m                     \u001b[0mclass_idx\u001b[0m \u001b[0;34m=\u001b[0m \u001b[0mclass_\u001b[0m\u001b[0;34m\u001b[0m\u001b[0;34m\u001b[0m\u001b[0m\n\u001b[0;32m--> 610\u001b[0;31m                     \u001b[0mclass_proba\u001b[0m\u001b[0;34m[\u001b[0m\u001b[0mclass_idx\u001b[0m\u001b[0;34m]\u001b[0m \u001b[0;34m=\u001b[0m \u001b[0mprobs\u001b[0m\u001b[0;34m[\u001b[0m\u001b[0;36m0\u001b[0m\u001b[0;34m,\u001b[0m \u001b[0mlocal_class_idx\u001b[0m\u001b[0;34m]\u001b[0m\u001b[0;34m\u001b[0m\u001b[0;34m\u001b[0m\u001b[0m\n\u001b[0m\u001b[1;32m    611\u001b[0m                     \u001b[0;32mif\u001b[0m \u001b[0mclass_proba\u001b[0m\u001b[0;34m[\u001b[0m\u001b[0mclass_idx\u001b[0m\u001b[0;34m]\u001b[0m \u001b[0;34m>\u001b[0m \u001b[0mself\u001b[0m\u001b[0;34m.\u001b[0m\u001b[0mmlb_prediction_threshold\u001b[0m\u001b[0;34m:\u001b[0m\u001b[0;34m\u001b[0m\u001b[0;34m\u001b[0m\u001b[0m\n\u001b[1;32m    612\u001b[0m                         \u001b[0mpredictions\u001b[0m\u001b[0;34m.\u001b[0m\u001b[0mappend\u001b[0m\u001b[0;34m(\u001b[0m\u001b[0mself\u001b[0m\u001b[0;34m.\u001b[0m\u001b[0mmlb\u001b[0m\u001b[0;34m.\u001b[0m\u001b[0mclasses_\u001b[0m\u001b[0;34m[\u001b[0m\u001b[0mclass_\u001b[0m\u001b[0;34m]\u001b[0m\u001b[0;34m)\u001b[0m\u001b[0;34m\u001b[0m\u001b[0;34m\u001b[0m\u001b[0m\n",
      "\u001b[0;31mIndexError\u001b[0m: only integers, slices (`:`), ellipsis (`...`), numpy.newaxis (`None`) and integer or boolean arrays are valid indices"
     ]
    }
   ],
   "source": [
    "preds = clf.predict_proba(X_test)\n",
    "preds"
   ]
  },
  {
   "cell_type": "code",
   "execution_count": 48,
   "metadata": {},
   "outputs": [
    {
     "data": {
      "text/plain": [
       "0.2970608032308728"
      ]
     },
     "execution_count": 48,
     "metadata": {},
     "output_type": "execute_result"
    }
   ],
   "source": [
    "accuracy= sum(1 for x,y in zip(preds,y_stest) if x == y) / len(y_test)\n",
    "accuracy"
   ]
  },
  {
   "cell_type": "code",
   "execution_count": 38,
   "metadata": {},
   "outputs": [
    {
     "data": {
      "text/plain": [
       "array([[1.34110451e-06, 3.61029804e-02, 1.29221976e-02, 4.25683737e-01,\n",
       "        4.04359996e-01, 3.79384756e-02, 4.15544808e-02, 2.91648448e-01,\n",
       "        3.88230503e-01, 5.94973564e-04, 2.96230674e-01, 5.52564859e-04,\n",
       "        5.62608242e-04, 5.96046448e-07, 5.66244125e-06, 5.09619713e-06,\n",
       "        2.83122063e-06, 2.86102295e-06, 2.68816948e-05, 3.20509076e-03,\n",
       "        7.06315041e-06, 4.67896461e-06, 8.94069672e-08, 8.94069672e-08,\n",
       "        8.94069672e-08, 0.00000000e+00, 5.44786453e-05, 5.19752502e-05,\n",
       "        3.26931477e-05, 2.88784504e-05, 8.94069672e-08, 5.56886196e-04,\n",
       "        3.54290009e-04, 4.44650650e-04, 6.10947609e-05, 2.38418579e-06,\n",
       "        2.53319740e-06, 2.38418579e-07, 9.23871994e-07, 1.78813934e-07,\n",
       "        1.19209290e-07, 8.69035721e-05, 2.59854943e-01, 6.07967377e-06,\n",
       "        1.73747540e-05, 5.66244125e-07, 5.36441803e-07, 2.62632191e-01,\n",
       "        9.20951366e-04, 8.76188278e-06, 1.49011612e-06, 2.41398811e-06,\n",
       "        1.46031380e-06, 1.78754330e-04, 1.99675560e-05, 1.57952309e-06,\n",
       "        1.22189522e-06, 1.25169754e-06, 3.69548798e-06, 9.11951065e-06,\n",
       "        4.22894955e-05, 1.78813934e-06, 2.68220901e-07, 5.66601753e-04,\n",
       "        6.08772039e-04, 1.69873238e-06, 3.27825546e-07, 3.57627869e-07,\n",
       "        2.98023224e-07, 5.99145889e-04, 6.21885061e-04, 5.44428825e-04,\n",
       "        4.52488661e-04, 4.25904989e-04, 7.53998756e-06, 7.21216202e-06,\n",
       "        8.34465027e-07, 5.58912754e-04, 5.70648909e-03]])"
      ]
     },
     "execution_count": 38,
     "metadata": {},
     "output_type": "execute_result"
    }
   ],
   "source": [
    "[x.reshape(1, -1) for x in X_test][0]"
   ]
  },
  {
   "cell_type": "code",
   "execution_count": null,
   "metadata": {},
   "outputs": [],
   "source": []
  }
 ],
 "metadata": {
  "kernelspec": {
   "display_name": "Python 3",
   "language": "python",
   "name": "python3"
  },
  "language_info": {
   "codemirror_mode": {
    "name": "ipython",
    "version": 3
   },
   "file_extension": ".py",
   "mimetype": "text/x-python",
   "name": "python",
   "nbconvert_exporter": "python",
   "pygments_lexer": "ipython3",
   "version": "3.6.7"
  }
 },
 "nbformat": 4,
 "nbformat_minor": 2
}
